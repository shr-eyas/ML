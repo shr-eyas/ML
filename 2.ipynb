{
 "cells": [
  {
   "cell_type": "code",
   "execution_count": 17,
   "metadata": {},
   "outputs": [],
   "source": [
    "import pandas as pd\n",
    "import numpy as np\n",
    "import tensorflow as tf\n",
    "from tensorflow import keras\n",
    "from tensorflow.keras.models import Sequential\n",
    "from tensorflow.keras.layers import Dense\n",
    "from tensorflow.keras.preprocessing.text import Tokenizer\n",
    "from tensorflow.keras import datasets, layers, models\n",
    "from keras.layers import Conv1D, MaxPooling1D, Flatten, Dense\n",
    "from sklearn.preprocessing import MinMaxScaler\n",
    "import matplotlib.pyplot as plt\n",
    "%matplotlib inline"
   ]
  },
  {
   "cell_type": "code",
   "execution_count": 47,
   "metadata": {},
   "outputs": [],
   "source": [
    "df = pd.read_csv('orbital_MP_train.csv')\n",
    "test = pd.read_csv('Orbital_mp_train.csv')"
   ]
  },
  {
   "cell_type": "code",
   "execution_count": 48,
   "metadata": {},
   "outputs": [],
   "source": [
    "X_train = df.iloc[:,14:]\n",
    "X_test = test.iloc[:,14:]"
   ]
  },
  {
   "cell_type": "code",
   "execution_count": 50,
   "metadata": {},
   "outputs": [],
   "source": [
    "y_train = df['crystal_system']\n",
    "y_test = test['crystal_system']"
   ]
  },
  {
   "cell_type": "code",
   "execution_count": 52,
   "metadata": {},
   "outputs": [],
   "source": [
    "tokenizer = Tokenizer()\n",
    "tokenizer.fit_on_texts(y_test)\n",
    "word_index = tokenizer.word_index\n",
    "sequences = tokenizer.texts_to_sequences(y_test)\n",
    "\n",
    "vector_test = np.array(sequences)\n",
    "Y_test = keras.utils.to_categorical(\n",
    "    vector_test, num_classes=8, dtype='float32'\n",
    ")"
   ]
  },
  {
   "cell_type": "code",
   "execution_count": 38,
   "metadata": {},
   "outputs": [
    {
     "name": "stdout",
     "output_type": "stream",
     "text": [
      "Word Index: {'triclinic': 1, 'monoclinic': 2, 'orthorhombic': 3, 'cubic': 4, 'trigonal': 5, 'tetragonal': 6, 'hexagonal': 7}\n"
     ]
    }
   ],
   "source": [
    "tokenizer = Tokenizer()\n",
    "tokenizer.fit_on_texts(y_train)\n",
    "word_index = tokenizer.word_index\n",
    "print(\"Word Index:\", word_index)\n",
    "sequences = tokenizer.texts_to_sequences(y_train)\n",
    "\n",
    "vector = np.array(sequences)\n",
    "Y_train = keras.utils.to_categorical(\n",
    "    vector, num_classes=8, dtype='float32'\n",
    ")"
   ]
  },
  {
   "cell_type": "code",
   "execution_count": 25,
   "metadata": {},
   "outputs": [],
   "source": [
    "ann = Sequential([\n",
    "    Dense(units=1000, activation='relu', input_shape=(1024,)),\n",
    "    Dense(units=800, activation='relu'),   \n",
    "    Dense(units=600, activation='relu'),   \n",
    "    Dense(units=400, activation='relu'),\n",
    "    Dense(units=100, activation='relu'),   \n",
    "    Dense(units=20, activation='relu'),   \n",
    "    Dense(units=8, activation='softmax')\n",
    "])"
   ]
  },
  {
   "cell_type": "code",
   "execution_count": 35,
   "metadata": {},
   "outputs": [
    {
     "name": "stdout",
     "output_type": "stream",
     "text": [
      "Epoch 1/20\n",
      "23/23 [==============================] - 2s 31ms/step - loss: 0.4538 - accuracy: 0.8397\n",
      "Epoch 2/20\n",
      "23/23 [==============================] - 1s 34ms/step - loss: 0.1984 - accuracy: 0.9137\n",
      "Epoch 3/20\n",
      "23/23 [==============================] - 1s 34ms/step - loss: 0.1247 - accuracy: 0.9493\n",
      "Epoch 4/20\n",
      "23/23 [==============================] - 1s 35ms/step - loss: 0.1246 - accuracy: 0.9507\n",
      "Epoch 5/20\n",
      "23/23 [==============================] - 1s 33ms/step - loss: 0.1458 - accuracy: 0.9397\n",
      "Epoch 6/20\n",
      "23/23 [==============================] - 1s 35ms/step - loss: 0.1433 - accuracy: 0.9370\n",
      "Epoch 7/20\n",
      "23/23 [==============================] - 1s 37ms/step - loss: 0.0999 - accuracy: 0.9507\n",
      "Epoch 8/20\n",
      "23/23 [==============================] - 1s 41ms/step - loss: 0.0844 - accuracy: 0.9616\n",
      "Epoch 9/20\n",
      "23/23 [==============================] - 1s 42ms/step - loss: 0.1108 - accuracy: 0.9479\n",
      "Epoch 10/20\n",
      "23/23 [==============================] - 1s 43ms/step - loss: 0.1298 - accuracy: 0.9438\n",
      "Epoch 11/20\n",
      "23/23 [==============================] - 1s 40ms/step - loss: 0.1990 - accuracy: 0.9068\n",
      "Epoch 12/20\n",
      "23/23 [==============================] - 1s 41ms/step - loss: 0.1715 - accuracy: 0.9233\n",
      "Epoch 13/20\n",
      "23/23 [==============================] - 1s 45ms/step - loss: 0.4393 - accuracy: 0.8384\n",
      "Epoch 14/20\n",
      "23/23 [==============================] - 1s 53ms/step - loss: 0.3969 - accuracy: 0.8411\n",
      "Epoch 15/20\n",
      "23/23 [==============================] - 1s 48ms/step - loss: 0.3382 - accuracy: 0.8548\n",
      "Epoch 16/20\n",
      "23/23 [==============================] - 1s 54ms/step - loss: 0.2220 - accuracy: 0.8986\n",
      "Epoch 17/20\n",
      "23/23 [==============================] - 1s 49ms/step - loss: 0.1436 - accuracy: 0.9521\n",
      "Epoch 18/20\n",
      "23/23 [==============================] - 1s 52ms/step - loss: 0.1168 - accuracy: 0.9548\n",
      "Epoch 19/20\n",
      "23/23 [==============================] - 1s 48ms/step - loss: 0.1070 - accuracy: 0.9603\n",
      "Epoch 20/20\n",
      "23/23 [==============================] - 1s 48ms/step - loss: 0.1345 - accuracy: 0.9384\n"
     ]
    },
    {
     "data": {
      "text/plain": [
       "<keras.callbacks.History at 0x17f22f57610>"
      ]
     },
     "execution_count": 35,
     "metadata": {},
     "output_type": "execute_result"
    }
   ],
   "source": [
    "ann.compile(optimizer='adam', \n",
    "              loss = 'categorical_crossentropy',\n",
    "              metrics = ['accuracy'])\n",
    "\n",
    "ann.fit(X_train,Y_train,epochs=20)"
   ]
  },
  {
   "cell_type": "code",
   "execution_count": 53,
   "metadata": {},
   "outputs": [
    {
     "name": "stdout",
     "output_type": "stream",
     "text": [
      "23/23 [==============================] - 0s 6ms/step - loss: 0.1189 - accuracy: 0.9534\n"
     ]
    },
    {
     "data": {
      "text/plain": [
       "[0.11892238259315491, 0.9534246325492859]"
      ]
     },
     "execution_count": 53,
     "metadata": {},
     "output_type": "execute_result"
    }
   ],
   "source": [
    "ann.evaluate(X_test,Y_test)"
   ]
  }
 ],
 "metadata": {
  "kernelspec": {
   "display_name": "base",
   "language": "python",
   "name": "python3"
  },
  "language_info": {
   "codemirror_mode": {
    "name": "ipython",
    "version": 3
   },
   "file_extension": ".py",
   "mimetype": "text/x-python",
   "name": "python",
   "nbconvert_exporter": "python",
   "pygments_lexer": "ipython3",
   "version": "3.10.9"
  },
  "orig_nbformat": 4
 },
 "nbformat": 4,
 "nbformat_minor": 2
}
