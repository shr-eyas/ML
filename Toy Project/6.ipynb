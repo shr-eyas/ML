{
 "cells": [
  {
   "cell_type": "code",
   "execution_count": 81,
   "metadata": {},
   "outputs": [],
   "source": [
    "import pandas as pd\n",
    "import numpy as np\n",
    "import matplotlib.pyplot as plt\n",
    "from pymatgen.ext.matproj import MPRester\n",
    "from matminer.featurizers.structure import OrbitalFieldMatrix\n",
    "from multiprocessing import Pool\n",
    "import pickle\n",
    "import glob\n",
    "import os\n",
    "import tensorflow as tf\n",
    "from tensorflow import keras\n",
    "from tensorflow.keras.models import Sequential\n",
    "from tensorflow.keras.layers import Dense\n",
    "from tensorflow.keras.preprocessing.text import Tokenizer\n",
    "from sklearn.metrics import confusion_matrix\n",
    "import seaborn as sns"
   ]
  },
  {
   "cell_type": "code",
   "execution_count": 5,
   "metadata": {},
   "outputs": [
    {
     "name": "stderr",
     "output_type": "stream",
     "text": [
      "c:\\Users\\shrey\\anaconda3\\lib\\site-packages\\pymatgen\\ext\\matproj.py:186: UserWarning: You are using the legacy MPRester. This version of the MPRester will no longer be updated. To access the latest data with the new MPRester, obtain a new API key from https://materialsproject.org/api and consult the docs at https://docs.materialsproject.org/ for more information.\n",
      "  warnings.warn(\n"
     ]
    }
   ],
   "source": [
    "mpr = MPRester(\"mv0hJgupKqxOTd9c\")\n",
    "df = pd.read_csv('totalxtrain.csv')\n",
    "material_ids = df['material_id']\n",
    "orbital_field_matrix_featurizer = OrbitalFieldMatrix(flatten=False)\n",
    "all_features = []"
   ]
  },
  {
   "cell_type": "code",
   "execution_count": 15,
   "metadata": {},
   "outputs": [
    {
     "name": "stdout",
     "output_type": "stream",
     "text": [
      "Loaded features up to index 8098\n",
      "Process completed.\n"
     ]
    }
   ],
   "source": [
    "start_index = 0\n",
    "\n",
    "try:\n",
    "    with open('features.pkl', 'rb') as f:\n",
    "        all_features = pickle.load(f)\n",
    "        start_index = len(all_features)\n",
    "        print(f\"Loaded features up to index {start_index}\")\n",
    "\n",
    "    for i in range(start_index, len(material_ids)):\n",
    "        material_id = material_ids[i]\n",
    "        structure = mpr.get_structure_by_material_id(material_id)\n",
    "        features = orbital_field_matrix_featurizer.featurize(structure)\n",
    "        all_features.append(features)\n",
    "\n",
    "        if i % 100 == 0:\n",
    "            with open('features.pkl', 'wb') as f:\n",
    "                pickle.dump(all_features, f)\n",
    "                print(f\"Saved features up to index {i}\")\n",
    "\n",
    "except Exception as e:\n",
    "    print(\"An error occurred:\", str(e))\n",
    "    print(\"Saving progress...\")\n",
    "    with open('features.pkl', 'wb') as f:\n",
    "        pickle.dump(all_features, f)\n",
    "        print(f\"Saved features up to index {start_index}\")\n",
    "\n",
    "with open('features.pkl', 'wb') as f:\n",
    "    pickle.dump(all_features, f)\n",
    "\n",
    "print(\"Process completed.\")"
   ]
  },
  {
   "cell_type": "code",
   "execution_count": 25,
   "metadata": {},
   "outputs": [
    {
     "data": {
      "text/plain": [
       "8098"
      ]
     },
     "execution_count": 25,
     "metadata": {},
     "output_type": "execute_result"
    }
   ],
   "source": [
    "len(all_features)"
   ]
  },
  {
   "cell_type": "code",
   "execution_count": 8,
   "metadata": {},
   "outputs": [
    {
     "data": {
      "text/plain": [
       "0       mp-1188260\n",
       "1         mp-12192\n",
       "2        mp-558475\n",
       "3       mp-1095492\n",
       "4          mp-4661\n",
       "           ...    \n",
       "2020     mp-744567\n",
       "2021      mp-12646\n",
       "2022     mp-706444\n",
       "2023     mp-696152\n",
       "2024    mp-1179030\n",
       "Name: material_id, Length: 2025, dtype: object"
      ]
     },
     "execution_count": 8,
     "metadata": {},
     "output_type": "execute_result"
    }
   ],
   "source": [
    "df_test = pd.read_csv('totalxtest.csv')\n",
    "material_ids_test = df_test['material_id']\n",
    "material_ids_test"
   ]
  },
  {
   "cell_type": "code",
   "execution_count": 21,
   "metadata": {},
   "outputs": [],
   "source": [
    "orbital_field_matrix_featurizer = OrbitalFieldMatrix(flatten=False)\n",
    "all_features_test = []\n",
    "\n",
    "for i in range(0, len(material_ids_test)):\n",
    "    material_id_test = material_ids_test[i]\n",
    "    structure = mpr.get_structure_by_material_id(material_id_test)\n",
    "    features = orbital_field_matrix_featurizer.featurize(structure)\n",
    "    all_features_test.append(features)"
   ]
  },
  {
   "cell_type": "code",
   "execution_count": 26,
   "metadata": {},
   "outputs": [
    {
     "data": {
      "text/plain": [
       "2025"
      ]
     },
     "execution_count": 26,
     "metadata": {},
     "output_type": "execute_result"
    }
   ],
   "source": [
    "len(all_features_test)"
   ]
  },
  {
   "cell_type": "code",
   "execution_count": 67,
   "metadata": {},
   "outputs": [],
   "source": [
    "x = np.array(all_features)\n",
    "X_train = [np.ravel(row) for row in x]\n",
    "X_train = np.reshape(X_train,(8098,1024))"
   ]
  },
  {
   "cell_type": "code",
   "execution_count": 68,
   "metadata": {},
   "outputs": [],
   "source": [
    "x_test = np.array(all_features_test)\n",
    "X_test = [np.ravel(row) for row in x_test]\n",
    "X_test = np.reshape(X_test,(2025,1024))"
   ]
  },
  {
   "cell_type": "code",
   "execution_count": 92,
   "metadata": {},
   "outputs": [
    {
     "data": {
      "text/plain": [
       "'orthorhombic'"
      ]
     },
     "execution_count": 92,
     "metadata": {},
     "output_type": "execute_result"
    }
   ],
   "source": [
    "y = df['crystal_system']\n",
    "y_test = df_test['crystal_system']\n",
    "y[0]"
   ]
  },
  {
   "cell_type": "code",
   "execution_count": 94,
   "metadata": {},
   "outputs": [
    {
     "name": "stdout",
     "output_type": "stream",
     "text": [
      "Word Index: {'monoclinic': 1, 'orthorhombic': 2, 'tetragonal': 3, 'triclinic': 4, 'cubic': 5, 'trigonal': 6, 'hexagonal': 7}\n"
     ]
    }
   ],
   "source": [
    "tokenizer = Tokenizer()\n",
    "tokenizer.fit_on_texts(y)\n",
    "word_index = tokenizer.word_index\n",
    "print(\"Word Index:\", word_index)\n",
    "sequences = tokenizer.texts_to_sequences(y)\n",
    "\n",
    "vector = np.array(sequences)\n",
    "Y_train = keras.utils.to_categorical(\n",
    "    vector-1, num_classes=7, dtype='float32'\n",
    ")"
   ]
  },
  {
   "cell_type": "code",
   "execution_count": 95,
   "metadata": {},
   "outputs": [],
   "source": [
    "tokenizer = Tokenizer()\n",
    "tokenizer.fit_on_texts(y_test)\n",
    "word_index = tokenizer.word_index\n",
    "sequences = tokenizer.texts_to_sequences(y_test)\n",
    "\n",
    "vector_test = np.array(sequences)\n",
    "Y_test = keras.utils.to_categorical(\n",
    "    vector_test-1, num_classes=7, dtype='float32'\n",
    ")"
   ]
  },
  {
   "cell_type": "code",
   "execution_count": 102,
   "metadata": {},
   "outputs": [],
   "source": [
    "ann = Sequential([\n",
    "    Dense(units=1000, activation='relu', input_shape=(1024,)),\n",
    "    Dense(units=800, activation='relu'),  \n",
    "    Dense(units=600, activation='relu'),   \n",
    "    Dense(units=400, activation='relu'),\n",
    "    Dense(units=100, activation='relu'),   \n",
    "    Dense(units=20, activation='relu'),   \n",
    "    Dense(units=7, activation='softmax')\n",
    "])"
   ]
  },
  {
   "cell_type": "code",
   "execution_count": 108,
   "metadata": {},
   "outputs": [
    {
     "name": "stdout",
     "output_type": "stream",
     "text": [
      "Epoch 1/100\n",
      "254/254 [==============================] - 10s 32ms/step - loss: 0.3421 - accuracy: 0.8487 - val_loss: 3.5536 - val_accuracy: 0.4543\n",
      "Epoch 2/100\n",
      "254/254 [==============================] - 9s 34ms/step - loss: 0.3167 - accuracy: 0.8626 - val_loss: 4.0089 - val_accuracy: 0.4657\n",
      "Epoch 3/100\n",
      "254/254 [==============================] - 8s 31ms/step - loss: 0.3352 - accuracy: 0.8619 - val_loss: 3.4933 - val_accuracy: 0.4662\n",
      "Epoch 4/100\n",
      "254/254 [==============================] - 9s 35ms/step - loss: 0.3445 - accuracy: 0.8596 - val_loss: 2.9252 - val_accuracy: 0.4612\n",
      "Epoch 5/100\n",
      "254/254 [==============================] - 9s 34ms/step - loss: 0.3519 - accuracy: 0.8642 - val_loss: 2.7271 - val_accuracy: 0.4805\n",
      "Epoch 6/100\n",
      "254/254 [==============================] - 9s 37ms/step - loss: 0.3197 - accuracy: 0.8663 - val_loss: 3.1392 - val_accuracy: 0.4854\n",
      "Epoch 7/100\n",
      "254/254 [==============================] - 9s 36ms/step - loss: 0.2992 - accuracy: 0.8698 - val_loss: 3.3157 - val_accuracy: 0.4721\n",
      "Epoch 8/100\n",
      "254/254 [==============================] - 10s 40ms/step - loss: 0.3144 - accuracy: 0.8682 - val_loss: 3.2456 - val_accuracy: 0.4662\n",
      "Epoch 9/100\n",
      "254/254 [==============================] - 11s 43ms/step - loss: 0.3303 - accuracy: 0.8595 - val_loss: 3.1347 - val_accuracy: 0.4578\n",
      "Epoch 10/100\n",
      "254/254 [==============================] - 16s 62ms/step - loss: 0.3157 - accuracy: 0.8629 - val_loss: 3.0769 - val_accuracy: 0.4627\n",
      "Epoch 11/100\n",
      "254/254 [==============================] - 14s 55ms/step - loss: 0.3165 - accuracy: 0.8644 - val_loss: 3.0431 - val_accuracy: 0.4736\n",
      "Epoch 12/100\n",
      "254/254 [==============================] - 14s 56ms/step - loss: 0.2860 - accuracy: 0.8738 - val_loss: 3.6855 - val_accuracy: 0.4701\n",
      "Epoch 13/100\n",
      "254/254 [==============================] - 16s 61ms/step - loss: 0.3097 - accuracy: 0.8701 - val_loss: 3.3614 - val_accuracy: 0.4736\n",
      "Epoch 14/100\n",
      "254/254 [==============================] - 12s 45ms/step - loss: 0.2732 - accuracy: 0.8800 - val_loss: 3.5533 - val_accuracy: 0.4765\n",
      "Epoch 15/100\n",
      "254/254 [==============================] - 12s 46ms/step - loss: 0.2851 - accuracy: 0.8773 - val_loss: 3.4556 - val_accuracy: 0.4721\n",
      "Epoch 16/100\n",
      "254/254 [==============================] - 11s 45ms/step - loss: 0.3106 - accuracy: 0.8712 - val_loss: 3.2941 - val_accuracy: 0.4627\n",
      "Epoch 17/100\n",
      "254/254 [==============================] - 13s 53ms/step - loss: 0.2916 - accuracy: 0.8722 - val_loss: 3.2033 - val_accuracy: 0.4642\n",
      "Epoch 18/100\n",
      "254/254 [==============================] - 12s 49ms/step - loss: 0.2939 - accuracy: 0.8745 - val_loss: 3.2960 - val_accuracy: 0.4731\n",
      "Epoch 19/100\n",
      "254/254 [==============================] - 17s 68ms/step - loss: 0.3351 - accuracy: 0.8608 - val_loss: 3.0542 - val_accuracy: 0.4904\n",
      "Epoch 20/100\n",
      "254/254 [==============================] - 14s 57ms/step - loss: 0.2852 - accuracy: 0.8755 - val_loss: 3.4610 - val_accuracy: 0.4840\n",
      "Epoch 21/100\n",
      "254/254 [==============================] - 11s 41ms/step - loss: 0.2770 - accuracy: 0.8805 - val_loss: 3.5765 - val_accuracy: 0.4711\n",
      "Epoch 22/100\n",
      "254/254 [==============================] - 11s 43ms/step - loss: 0.2845 - accuracy: 0.8786 - val_loss: 3.2242 - val_accuracy: 0.4642\n",
      "Epoch 23/100\n",
      "254/254 [==============================] - 11s 42ms/step - loss: 0.2764 - accuracy: 0.8763 - val_loss: 3.5220 - val_accuracy: 0.4583\n",
      "Epoch 24/100\n",
      "254/254 [==============================] - 11s 43ms/step - loss: 0.2986 - accuracy: 0.8759 - val_loss: 3.2377 - val_accuracy: 0.4573\n",
      "Epoch 25/100\n",
      "254/254 [==============================] - 11s 42ms/step - loss: 0.2918 - accuracy: 0.8771 - val_loss: 3.0670 - val_accuracy: 0.4716\n",
      "Epoch 26/100\n",
      "254/254 [==============================] - 11s 42ms/step - loss: 0.2883 - accuracy: 0.8779 - val_loss: 3.0932 - val_accuracy: 0.4681\n",
      "Epoch 27/100\n",
      "254/254 [==============================] - 12s 46ms/step - loss: 0.2682 - accuracy: 0.8831 - val_loss: 3.2142 - val_accuracy: 0.4691\n",
      "Epoch 28/100\n",
      "254/254 [==============================] - 11s 44ms/step - loss: 0.2758 - accuracy: 0.8817 - val_loss: 3.1569 - val_accuracy: 0.4553\n",
      "Epoch 29/100\n",
      "254/254 [==============================] - 12s 49ms/step - loss: 0.2527 - accuracy: 0.8886 - val_loss: 3.3357 - val_accuracy: 0.4919\n",
      "Epoch 30/100\n",
      "254/254 [==============================] - 15s 58ms/step - loss: 0.2764 - accuracy: 0.8817 - val_loss: 3.2081 - val_accuracy: 0.4770\n",
      "Epoch 31/100\n",
      "254/254 [==============================] - 13s 52ms/step - loss: 0.2918 - accuracy: 0.8806 - val_loss: 3.2884 - val_accuracy: 0.4686\n",
      "Epoch 32/100\n",
      "254/254 [==============================] - 12s 47ms/step - loss: 0.3191 - accuracy: 0.8697 - val_loss: 3.0739 - val_accuracy: 0.4607\n",
      "Epoch 33/100\n",
      "254/254 [==============================] - 12s 47ms/step - loss: 0.2667 - accuracy: 0.8827 - val_loss: 3.2646 - val_accuracy: 0.4736\n",
      "Epoch 34/100\n",
      "254/254 [==============================] - 13s 52ms/step - loss: 0.2627 - accuracy: 0.8869 - val_loss: 3.3395 - val_accuracy: 0.4780\n",
      "Epoch 35/100\n",
      "254/254 [==============================] - 14s 54ms/step - loss: 0.2661 - accuracy: 0.8840 - val_loss: 3.4714 - val_accuracy: 0.4736\n",
      "Epoch 36/100\n",
      "254/254 [==============================] - 13s 52ms/step - loss: 0.2442 - accuracy: 0.8923 - val_loss: 3.6679 - val_accuracy: 0.4662\n",
      "Epoch 37/100\n",
      "254/254 [==============================] - 14s 55ms/step - loss: 0.2515 - accuracy: 0.8865 - val_loss: 3.6967 - val_accuracy: 0.4637\n",
      "Epoch 38/100\n",
      "254/254 [==============================] - 14s 55ms/step - loss: 0.2577 - accuracy: 0.8859 - val_loss: 3.4395 - val_accuracy: 0.4533\n",
      "Epoch 39/100\n",
      "254/254 [==============================] - 14s 55ms/step - loss: 0.2544 - accuracy: 0.8890 - val_loss: 3.4825 - val_accuracy: 0.4770\n",
      "Epoch 40/100\n",
      "254/254 [==============================] - 14s 56ms/step - loss: 0.2683 - accuracy: 0.8878 - val_loss: 3.3558 - val_accuracy: 0.4800\n",
      "Epoch 41/100\n",
      "254/254 [==============================] - 15s 58ms/step - loss: 0.2578 - accuracy: 0.8891 - val_loss: 3.2312 - val_accuracy: 0.4716\n",
      "Epoch 42/100\n",
      "254/254 [==============================] - 14s 55ms/step - loss: 0.2639 - accuracy: 0.8882 - val_loss: 3.2179 - val_accuracy: 0.4765\n",
      "Epoch 43/100\n",
      "254/254 [==============================] - 14s 56ms/step - loss: 0.2624 - accuracy: 0.8874 - val_loss: 3.3228 - val_accuracy: 0.4652\n",
      "Epoch 44/100\n",
      "254/254 [==============================] - 15s 59ms/step - loss: 0.2793 - accuracy: 0.8811 - val_loss: 3.1003 - val_accuracy: 0.4667\n",
      "Epoch 45/100\n",
      "254/254 [==============================] - 15s 57ms/step - loss: 0.2662 - accuracy: 0.8864 - val_loss: 3.4684 - val_accuracy: 0.4731\n",
      "Epoch 46/100\n",
      "254/254 [==============================] - 15s 58ms/step - loss: 0.2529 - accuracy: 0.8907 - val_loss: 3.1634 - val_accuracy: 0.4617\n",
      "Epoch 47/100\n",
      "254/254 [==============================] - 14s 55ms/step - loss: 0.2506 - accuracy: 0.8905 - val_loss: 3.2797 - val_accuracy: 0.4726\n",
      "Epoch 48/100\n",
      "254/254 [==============================] - 15s 61ms/step - loss: 0.2453 - accuracy: 0.8954 - val_loss: 3.5022 - val_accuracy: 0.4612\n",
      "Epoch 49/100\n",
      "254/254 [==============================] - 16s 61ms/step - loss: 0.2645 - accuracy: 0.8869 - val_loss: 3.2712 - val_accuracy: 0.4770\n",
      "Epoch 50/100\n",
      "254/254 [==============================] - 17s 65ms/step - loss: 0.2572 - accuracy: 0.8928 - val_loss: 3.2643 - val_accuracy: 0.4805\n",
      "Epoch 51/100\n",
      "254/254 [==============================] - 15s 61ms/step - loss: 0.2339 - accuracy: 0.8971 - val_loss: 3.2870 - val_accuracy: 0.4662\n",
      "Epoch 52/100\n",
      "254/254 [==============================] - 16s 62ms/step - loss: 0.2411 - accuracy: 0.8922 - val_loss: 3.5787 - val_accuracy: 0.4691\n",
      "Epoch 53/100\n",
      "254/254 [==============================] - 16s 63ms/step - loss: 0.2412 - accuracy: 0.8931 - val_loss: 3.0910 - val_accuracy: 0.4780\n",
      "Epoch 54/100\n",
      "254/254 [==============================] - 13s 51ms/step - loss: 0.2255 - accuracy: 0.9007 - val_loss: 3.2638 - val_accuracy: 0.4691\n",
      "Epoch 55/100\n",
      "254/254 [==============================] - 12s 49ms/step - loss: 0.2488 - accuracy: 0.8933 - val_loss: 3.5839 - val_accuracy: 0.4667\n",
      "Epoch 56/100\n",
      "254/254 [==============================] - 15s 57ms/step - loss: 0.2552 - accuracy: 0.8902 - val_loss: 3.4123 - val_accuracy: 0.4662\n",
      "Epoch 57/100\n",
      "254/254 [==============================] - 15s 59ms/step - loss: 0.2251 - accuracy: 0.9018 - val_loss: 3.2612 - val_accuracy: 0.4721\n",
      "Epoch 58/100\n",
      "254/254 [==============================] - 14s 57ms/step - loss: 0.2321 - accuracy: 0.9003 - val_loss: 3.7688 - val_accuracy: 0.4726\n",
      "Epoch 59/100\n",
      "254/254 [==============================] - 17s 66ms/step - loss: 0.2424 - accuracy: 0.8928 - val_loss: 3.4396 - val_accuracy: 0.4726\n",
      "Epoch 60/100\n",
      "254/254 [==============================] - 13s 51ms/step - loss: 0.2495 - accuracy: 0.8933 - val_loss: 3.7067 - val_accuracy: 0.4677\n",
      "Epoch 61/100\n",
      "254/254 [==============================] - 14s 53ms/step - loss: 0.2385 - accuracy: 0.8971 - val_loss: 3.5005 - val_accuracy: 0.4627\n",
      "Epoch 62/100\n",
      "254/254 [==============================] - 14s 54ms/step - loss: 0.2474 - accuracy: 0.8924 - val_loss: 3.7055 - val_accuracy: 0.4662\n",
      "Epoch 63/100\n",
      "254/254 [==============================] - 14s 54ms/step - loss: 0.2314 - accuracy: 0.9034 - val_loss: 3.5135 - val_accuracy: 0.4726\n",
      "Epoch 64/100\n",
      "254/254 [==============================] - 14s 57ms/step - loss: 0.2340 - accuracy: 0.8953 - val_loss: 3.4795 - val_accuracy: 0.4553\n",
      "Epoch 65/100\n",
      "254/254 [==============================] - 13s 53ms/step - loss: 0.2597 - accuracy: 0.8905 - val_loss: 3.4253 - val_accuracy: 0.4760\n",
      "Epoch 66/100\n",
      "254/254 [==============================] - 14s 56ms/step - loss: 0.2201 - accuracy: 0.9048 - val_loss: 3.8997 - val_accuracy: 0.4721\n",
      "Epoch 67/100\n",
      "254/254 [==============================] - 14s 56ms/step - loss: 0.2091 - accuracy: 0.9091 - val_loss: 3.6107 - val_accuracy: 0.4612\n",
      "Epoch 68/100\n",
      "254/254 [==============================] - 13s 53ms/step - loss: 0.2355 - accuracy: 0.8982 - val_loss: 3.4458 - val_accuracy: 0.4632\n",
      "Epoch 69/100\n",
      "254/254 [==============================] - 14s 57ms/step - loss: 0.2394 - accuracy: 0.8958 - val_loss: 3.7717 - val_accuracy: 0.4558\n",
      "Epoch 70/100\n",
      "254/254 [==============================] - 14s 55ms/step - loss: 0.2173 - accuracy: 0.9010 - val_loss: 4.2543 - val_accuracy: 0.4775\n",
      "Epoch 71/100\n",
      "254/254 [==============================] - 14s 53ms/step - loss: 0.2546 - accuracy: 0.8974 - val_loss: 3.5155 - val_accuracy: 0.4716\n",
      "Epoch 72/100\n",
      "254/254 [==============================] - 15s 57ms/step - loss: 0.2175 - accuracy: 0.9065 - val_loss: 3.6555 - val_accuracy: 0.4681\n",
      "Epoch 73/100\n",
      "254/254 [==============================] - 14s 55ms/step - loss: 0.2115 - accuracy: 0.9112 - val_loss: 3.9714 - val_accuracy: 0.4706\n",
      "Epoch 74/100\n",
      "254/254 [==============================] - 15s 58ms/step - loss: 0.2272 - accuracy: 0.9032 - val_loss: 3.7813 - val_accuracy: 0.4696\n",
      "Epoch 75/100\n",
      "254/254 [==============================] - 14s 56ms/step - loss: 0.2083 - accuracy: 0.9055 - val_loss: 3.7286 - val_accuracy: 0.4637\n",
      "Epoch 76/100\n",
      "254/254 [==============================] - 14s 54ms/step - loss: 0.2214 - accuracy: 0.9059 - val_loss: 3.8729 - val_accuracy: 0.4820\n",
      "Epoch 77/100\n",
      "254/254 [==============================] - 15s 60ms/step - loss: 0.2651 - accuracy: 0.8950 - val_loss: 3.3172 - val_accuracy: 0.4716\n",
      "Epoch 78/100\n",
      "254/254 [==============================] - 14s 57ms/step - loss: 0.2273 - accuracy: 0.9010 - val_loss: 3.4313 - val_accuracy: 0.4815\n",
      "Epoch 79/100\n",
      "254/254 [==============================] - 12s 47ms/step - loss: 0.2021 - accuracy: 0.9147 - val_loss: 3.5694 - val_accuracy: 0.4706\n",
      "Epoch 80/100\n",
      "254/254 [==============================] - 11s 44ms/step - loss: 0.2019 - accuracy: 0.9102 - val_loss: 3.7607 - val_accuracy: 0.4667\n",
      "Epoch 81/100\n",
      "254/254 [==============================] - 12s 49ms/step - loss: 0.2070 - accuracy: 0.9071 - val_loss: 3.8135 - val_accuracy: 0.4765\n",
      "Epoch 82/100\n",
      "254/254 [==============================] - 11s 45ms/step - loss: 0.1960 - accuracy: 0.9134 - val_loss: 4.0596 - val_accuracy: 0.4652\n",
      "Epoch 83/100\n",
      "254/254 [==============================] - 12s 47ms/step - loss: 0.2229 - accuracy: 0.9020 - val_loss: 3.9251 - val_accuracy: 0.4884\n",
      "Epoch 84/100\n",
      "254/254 [==============================] - 12s 46ms/step - loss: 0.2083 - accuracy: 0.9090 - val_loss: 3.7779 - val_accuracy: 0.4736\n",
      "Epoch 85/100\n",
      "254/254 [==============================] - 12s 47ms/step - loss: 0.2443 - accuracy: 0.8994 - val_loss: 3.7886 - val_accuracy: 0.4731\n",
      "Epoch 86/100\n",
      "254/254 [==============================] - 12s 47ms/step - loss: 0.2263 - accuracy: 0.9020 - val_loss: 3.6811 - val_accuracy: 0.4864\n",
      "Epoch 87/100\n",
      "254/254 [==============================] - 12s 47ms/step - loss: 0.2080 - accuracy: 0.9085 - val_loss: 3.9011 - val_accuracy: 0.4701\n",
      "Epoch 88/100\n",
      "254/254 [==============================] - 12s 47ms/step - loss: 0.2041 - accuracy: 0.9112 - val_loss: 3.6096 - val_accuracy: 0.4622\n",
      "Epoch 89/100\n",
      "254/254 [==============================] - 12s 45ms/step - loss: 0.2027 - accuracy: 0.9069 - val_loss: 3.8238 - val_accuracy: 0.4711\n",
      "Epoch 90/100\n",
      "254/254 [==============================] - 12s 46ms/step - loss: 0.2024 - accuracy: 0.9081 - val_loss: 3.9437 - val_accuracy: 0.4884\n",
      "Epoch 91/100\n",
      "254/254 [==============================] - 12s 47ms/step - loss: 0.2129 - accuracy: 0.9037 - val_loss: 3.5525 - val_accuracy: 0.4795\n",
      "Epoch 92/100\n",
      "254/254 [==============================] - 12s 46ms/step - loss: 0.2097 - accuracy: 0.9079 - val_loss: 3.8342 - val_accuracy: 0.4775\n",
      "Epoch 93/100\n",
      "254/254 [==============================] - 12s 45ms/step - loss: 0.2371 - accuracy: 0.9007 - val_loss: 3.6879 - val_accuracy: 0.4706\n",
      "Epoch 94/100\n",
      "254/254 [==============================] - 13s 49ms/step - loss: 0.2403 - accuracy: 0.9013 - val_loss: 3.9519 - val_accuracy: 0.4667\n",
      "Epoch 95/100\n",
      "254/254 [==============================] - 13s 51ms/step - loss: 0.2447 - accuracy: 0.8973 - val_loss: 4.1530 - val_accuracy: 0.4854\n",
      "Epoch 96/100\n",
      "254/254 [==============================] - 12s 47ms/step - loss: 0.1964 - accuracy: 0.9154 - val_loss: 3.7922 - val_accuracy: 0.4691\n",
      "Epoch 97/100\n",
      "254/254 [==============================] - 13s 50ms/step - loss: 0.2150 - accuracy: 0.9071 - val_loss: 4.0647 - val_accuracy: 0.4746\n",
      "Epoch 98/100\n",
      "254/254 [==============================] - 13s 50ms/step - loss: 0.1908 - accuracy: 0.9127 - val_loss: 4.3241 - val_accuracy: 0.4805\n",
      "Epoch 99/100\n",
      "254/254 [==============================] - 12s 48ms/step - loss: 0.1967 - accuracy: 0.9120 - val_loss: 3.8367 - val_accuracy: 0.4642\n",
      "Epoch 100/100\n",
      "254/254 [==============================] - 13s 50ms/step - loss: 0.2051 - accuracy: 0.9094 - val_loss: 3.8156 - val_accuracy: 0.4602\n"
     ]
    }
   ],
   "source": [
    "ann.compile(optimizer='adam', \n",
    "              loss = 'categorical_crossentropy',\n",
    "              metrics = ['accuracy'])\n",
    "\n",
    "history = ann.fit(X_train, Y_train, epochs=100, validation_data=(X_test, Y_test))"
   ]
  },
  {
   "cell_type": "code",
   "execution_count": 111,
   "metadata": {},
   "outputs": [
    {
     "name": "stdout",
     "output_type": "stream",
     "text": [
      "64/64 [==============================] - 1s 15ms/step - loss: 3.8156 - accuracy: 0.4602\n"
     ]
    },
    {
     "data": {
      "text/plain": [
       "[3.815645456314087, 0.4602469205856323]"
      ]
     },
     "execution_count": 111,
     "metadata": {},
     "output_type": "execute_result"
    }
   ],
   "source": [
    "ann.evaluate(X_test,Y_test)"
   ]
  },
  {
   "cell_type": "code",
   "execution_count": 110,
   "metadata": {},
   "outputs": [
    {
     "name": "stdout",
     "output_type": "stream",
     "text": [
      "64/64 [==============================] - 1s 14ms/step\n"
     ]
    },
    {
     "data": {
      "image/png": "[encoded data removed]",
      "text/plain": [
       "<Figure size 640x480 with 2 Axes>"
      ]
     },
     "metadata": {},
     "output_type": "display_data"
    }
   ],
   "source": [
    "y_pred = ann.predict(X_test)\n",
    "y_pred_classes = y_pred.argmax(axis=1)\n",
    "y_test_classes = Y_test.argmax(axis=1)\n",
    "\n",
    "conf_matrix = confusion_matrix(y_test_classes, y_pred_classes)\n",
    "sns.heatmap(conf_matrix, annot=True, cmap='Blues', fmt='d')\n",
    "plt.xlabel('Predicted Class')\n",
    "plt.ylabel('True Class')\n",
    "plt.title('Confusion Matrix')\n",
    "plt.show()"
   ]
  },
  {
   "cell_type": "code",
   "execution_count": 109,
   "metadata": {},
   "outputs": [
    {
     "data": {
      "image/png": "[encoded data removed]",
      "text/plain": [
       "<Figure size 640x480 with 1 Axes>"
      ]
     },
     "metadata": {},
     "output_type": "display_data"
    }
   ],
   "source": [
    "plt.plot(history.history['accuracy'], label='Training Accuracy')\n",
    "plt.plot(history.history['val_accuracy'], label='Validation Accuracy')\n",
    "plt.xlabel('Epoch')\n",
    "plt.ylabel('Accuracy')\n",
    "plt.legend()\n",
    "plt.title('Training and Validation Accuracy')\n",
    "plt.show()"
   ]
  }
 ],
 "metadata": {
  "kernelspec": {
   "display_name": "base",
   "language": "python",
   "name": "python3"
  },
  "language_info": {
   "codemirror_mode": {
    "name": "ipython",
    "version": 3
   },
   "file_extension": ".py",
   "mimetype": "text/x-python",
   "name": "python",
   "nbconvert_exporter": "python",
   "pygments_lexer": "ipython3",
   "version": "3.10.9"
  },
  "orig_nbformat": 4
 },
 "nbformat": 4,
 "nbformat_minor": 2
}
