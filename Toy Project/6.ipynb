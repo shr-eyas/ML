{
 "cells": [
  {
   "cell_type": "code",
   "execution_count": 81,
   "metadata": {},
   "outputs": [],
   "source": [
    "import pandas as pd\n",
    "import numpy as np\n",
    "import matplotlib.pyplot as plt\n",
    "from pymatgen.ext.matproj import MPRester\n",
    "from matminer.featurizers.structure import OrbitalFieldMatrix\n",
    "from multiprocessing import Pool\n",
    "import pickle\n",
    "import glob\n",
    "import os\n",
    "import tensorflow as tf\n",
    "from tensorflow import keras\n",
    "from tensorflow.keras.models import Sequential\n",
    "from tensorflow.keras.layers import Dense\n",
    "from tensorflow.keras.preprocessing.text import Tokenizer\n",
    "from sklearn.metrics import confusion_matrix\n",
    "import seaborn as sns"
   ]
  },
  {
   "cell_type": "code",
   "execution_count": 5,
   "metadata": {},
   "outputs": [
    {
     "name": "stderr",
     "output_type": "stream",
     "text": [
      "c:\\Users\\shrey\\anaconda3\\lib\\site-packages\\pymatgen\\ext\\matproj.py:186: UserWarning: You are using the legacy MPRester. This version of the MPRester will no longer be updated. To access the latest data with the new MPRester, obtain a new API key from https://materialsproject.org/api and consult the docs at https://docs.materialsproject.org/ for more information.\n",
      "  warnings.warn(\n"
     ]
    }
   ],
   "source": [
    "mpr = MPRester(\"mv0hJgupKqxOTd9c\")\n",
    "df = pd.read_csv('totalxtrain.csv')\n",
    "material_ids = df['material_id']\n",
    "orbital_field_matrix_featurizer = OrbitalFieldMatrix(flatten=False)\n",
    "all_features = []"
   ]
  },
  {
   "cell_type": "code",
   "execution_count": 15,
   "metadata": {},
   "outputs": [
    {
     "name": "stdout",
     "output_type": "stream",
     "text": [
      "Loaded features up to index 8098\n",
      "Process completed.\n"
     ]
    }
   ],
   "source": [
    "start_index = 0\n",
    "\n",
    "try:\n",
    "    with open('features.pkl', 'rb') as f:\n",
    "        all_features = pickle.load(f)\n",
    "        start_index = len(all_features)\n",
    "        print(f\"Loaded features up to index {start_index}\")\n",
    "\n",
    "    for i in range(start_index, len(material_ids)):\n",
    "        material_id = material_ids[i]\n",
    "        structure = mpr.get_structure_by_material_id(material_id)\n",
    "        features = orbital_field_matrix_featurizer.featurize(structure)\n",
    "        all_features.append(features)\n",
    "\n",
    "        if i % 100 == 0:\n",
    "            with open('features.pkl', 'wb') as f:\n",
    "                pickle.dump(all_features, f)\n",
    "                print(f\"Saved features up to index {i}\")\n",
    "\n",
    "except Exception as e:\n",
    "    print(\"An error occurred:\", str(e))\n",
    "    print(\"Saving progress...\")\n",
    "    with open('features.pkl', 'wb') as f:\n",
    "        pickle.dump(all_features, f)\n",
    "        print(f\"Saved features up to index {start_index}\")\n",
    "\n",
    "with open('features.pkl', 'wb') as f:\n",
    "    pickle.dump(all_features, f)\n",
    "\n",
    "print(\"Process completed.\")"
   ]
  },
  {
   "cell_type": "code",
   "execution_count": 25,
   "metadata": {},
   "outputs": [
    {
     "data": {
      "text/plain": [
       "8098"
      ]
     },
     "execution_count": 25,
     "metadata": {},
     "output_type": "execute_result"
    }
   ],
   "source": [
    "len(all_features)"
   ]
  },
  {
   "cell_type": "code",
   "execution_count": 8,
   "metadata": {},
   "outputs": [
    {
     "data": {
      "text/plain": [
       "0       mp-1188260\n",
       "1         mp-12192\n",
       "2        mp-558475\n",
       "3       mp-1095492\n",
       "4          mp-4661\n",
       "           ...    \n",
       "2020     mp-744567\n",
       "2021      mp-12646\n",
       "2022     mp-706444\n",
       "2023     mp-696152\n",
       "2024    mp-1179030\n",
       "Name: material_id, Length: 2025, dtype: object"
      ]
     },
     "execution_count": 8,
     "metadata": {},
     "output_type": "execute_result"
    }
   ],
   "source": [
    "df_test = pd.read_csv('totalxtest.csv')\n",
    "material_ids_test = df_test['material_id']\n",
    "material_ids_test"
   ]
  },
  {
   "cell_type": "code",
   "execution_count": 21,
   "metadata": {},
   "outputs": [],
   "source": [
    "orbital_field_matrix_featurizer = OrbitalFieldMatrix(flatten=False)\n",
    "all_features_test = []\n",
    "\n",
    "for i in range(0, len(material_ids_test)):\n",
    "    material_id_test = material_ids_test[i]\n",
    "    structure = mpr.get_structure_by_material_id(material_id_test)\n",
    "    features = orbital_field_matrix_featurizer.featurize(structure)\n",
    "    all_features_test.append(features)"
   ]
  },
  {
   "cell_type": "code",
   "execution_count": 26,
   "metadata": {},
   "outputs": [
    {
     "data": {
      "text/plain": [
       "2025"
      ]
     },
     "execution_count": 26,
     "metadata": {},
     "output_type": "execute_result"
    }
   ],
   "source": [
    "len(all_features_test)"
   ]
  },
  {
   "cell_type": "code",
   "execution_count": 67,
   "metadata": {},
   "outputs": [],
   "source": [
    "x = np.array(all_features)\n",
    "X_train = [np.ravel(row) for row in x]\n",
    "X_train = np.reshape(X_train,(8098,1024))"
   ]
  },
  {
   "cell_type": "code",
   "execution_count": 68,
   "metadata": {},
   "outputs": [],
   "source": [
    "x_test = np.array(all_features_test)\n",
    "X_test = [np.ravel(row) for row in x_test]\n",
    "X_test = np.reshape(X_test,(2025,1024))"
   ]
  },
  {
   "cell_type": "code",
   "execution_count": 92,
   "metadata": {},
   "outputs": [
    {
     "data": {
      "text/plain": [
       "'orthorhombic'"
      ]
     },
     "execution_count": 92,
     "metadata": {},
     "output_type": "execute_result"
    }
   ],
   "source": [
    "y = df['crystal_system']\n",
    "y_test = df_test['crystal_system']\n",
    "y[0]"
   ]
  },
  {
   "cell_type": "code",
   "execution_count": 94,
   "metadata": {},
   "outputs": [
    {
     "name": "stdout",
     "output_type": "stream",
     "text": [
      "Word Index: {'monoclinic': 1, 'orthorhombic': 2, 'tetragonal': 3, 'triclinic': 4, 'cubic': 5, 'trigonal': 6, 'hexagonal': 7}\n"
     ]
    }
   ],
   "source": [
    "tokenizer = Tokenizer()\n",
    "tokenizer.fit_on_texts(y)\n",
    "word_index = tokenizer.word_index\n",
    "print(\"Word Index:\", word_index)\n",
    "sequences = tokenizer.texts_to_sequences(y)\n",
    "\n",
    "vector = np.array(sequences)\n",
    "Y_train = keras.utils.to_categorical(\n",
    "    vector-1, num_classes=7, dtype='float32'\n",
    ")"
   ]
  },
  {
   "cell_type": "code",
   "execution_count": 95,
   "metadata": {},
   "outputs": [],
   "source": [
    "tokenizer = Tokenizer()\n",
    "tokenizer.fit_on_texts(y_test)\n",
    "word_index = tokenizer.word_index\n",
    "sequences = tokenizer.texts_to_sequences(y_test)\n",
    "\n",
    "vector_test = np.array(sequences)\n",
    "Y_test = keras.utils.to_categorical(\n",
    "    vector_test-1, num_classes=7, dtype='float32'\n",
    ")"
   ]
  },
  {
   "cell_type": "code",
   "execution_count": 112,
   "metadata": {},
   "outputs": [],
   "source": [
    "ann = Sequential([\n",
    "    Dense(units=1024, activation='relu', input_shape=(1024,)),\n",
    "    Dense(units=512, activation='relu'),  \n",
    "    Dense(units=256, activation='relu'),   \n",
    "    Dense(units=128, activation='relu'),\n",
    "    Dense(units=64, activation='relu'),   \n",
    "    Dense(units=32, activation='relu'),   \n",
    "    Dense(units=16, activation='relu'), \n",
    "    Dense(units=7, activation='softmax')\n",
    "])"
   ]
  },
  {
   "cell_type": "code",
   "execution_count": 113,
   "metadata": {},
   "outputs": [
    {
     "name": "stdout",
     "output_type": "stream",
     "text": [
      "Epoch 1/100\n",
      "254/254 [==============================] - 10s 29ms/step - loss: 1.7184 - accuracy: 0.3360 - val_loss: 1.6608 - val_accuracy: 0.3486\n",
      "Epoch 2/100\n",
      "254/254 [==============================] - 7s 28ms/step - loss: 1.6425 - accuracy: 0.3613 - val_loss: 1.6468 - val_accuracy: 0.3600\n",
      "Epoch 3/100\n",
      "254/254 [==============================] - 7s 28ms/step - loss: 1.5885 - accuracy: 0.3902 - val_loss: 1.6025 - val_accuracy: 0.3956\n",
      "Epoch 4/100\n",
      "254/254 [==============================] - 7s 28ms/step - loss: 1.5431 - accuracy: 0.4078 - val_loss: 1.5621 - val_accuracy: 0.4025\n",
      "Epoch 5/100\n",
      "254/254 [==============================] - 7s 27ms/step - loss: 1.5060 - accuracy: 0.4207 - val_loss: 1.5907 - val_accuracy: 0.4079\n",
      "Epoch 6/100\n",
      "254/254 [==============================] - 7s 29ms/step - loss: 1.4727 - accuracy: 0.4301 - val_loss: 1.5177 - val_accuracy: 0.4138\n",
      "Epoch 7/100\n",
      "254/254 [==============================] - 7s 29ms/step - loss: 1.4484 - accuracy: 0.4375 - val_loss: 1.5034 - val_accuracy: 0.4311\n",
      "Epoch 8/100\n",
      "254/254 [==============================] - 8s 30ms/step - loss: 1.4176 - accuracy: 0.4481 - val_loss: 1.5157 - val_accuracy: 0.4202\n",
      "Epoch 9/100\n",
      "254/254 [==============================] - 8s 31ms/step - loss: 1.3935 - accuracy: 0.4534 - val_loss: 1.5228 - val_accuracy: 0.4183\n",
      "Epoch 10/100\n",
      "254/254 [==============================] - 7s 29ms/step - loss: 1.3780 - accuracy: 0.4600 - val_loss: 1.4723 - val_accuracy: 0.4336\n",
      "Epoch 11/100\n",
      "254/254 [==============================] - 7s 28ms/step - loss: 1.3411 - accuracy: 0.4769 - val_loss: 1.4839 - val_accuracy: 0.4415\n",
      "Epoch 12/100\n",
      "254/254 [==============================] - 7s 29ms/step - loss: 1.3342 - accuracy: 0.4807 - val_loss: 1.4969 - val_accuracy: 0.4440\n",
      "Epoch 13/100\n",
      "254/254 [==============================] - 7s 29ms/step - loss: 1.3051 - accuracy: 0.4865 - val_loss: 1.4799 - val_accuracy: 0.4410\n",
      "Epoch 14/100\n",
      "254/254 [==============================] - 7s 29ms/step - loss: 1.2728 - accuracy: 0.4988 - val_loss: 1.5487 - val_accuracy: 0.4291\n",
      "Epoch 15/100\n",
      "254/254 [==============================] - 7s 29ms/step - loss: 1.2454 - accuracy: 0.5143 - val_loss: 1.5162 - val_accuracy: 0.4469\n",
      "Epoch 16/100\n",
      "254/254 [==============================] - 7s 29ms/step - loss: 1.2156 - accuracy: 0.5201 - val_loss: 1.5299 - val_accuracy: 0.4217\n",
      "Epoch 17/100\n",
      "254/254 [==============================] - 7s 29ms/step - loss: 1.1998 - accuracy: 0.5279 - val_loss: 1.5254 - val_accuracy: 0.4538\n",
      "Epoch 18/100\n",
      "254/254 [==============================] - 7s 29ms/step - loss: 1.1702 - accuracy: 0.5440 - val_loss: 1.5787 - val_accuracy: 0.4207\n",
      "Epoch 19/100\n",
      "254/254 [==============================] - 7s 29ms/step - loss: 1.1452 - accuracy: 0.5468 - val_loss: 1.5787 - val_accuracy: 0.4563\n",
      "Epoch 20/100\n",
      "254/254 [==============================] - 7s 29ms/step - loss: 1.1193 - accuracy: 0.5608 - val_loss: 1.6231 - val_accuracy: 0.4311\n",
      "Epoch 21/100\n",
      "254/254 [==============================] - 7s 28ms/step - loss: 1.0916 - accuracy: 0.5698 - val_loss: 1.5657 - val_accuracy: 0.4563\n",
      "Epoch 22/100\n",
      "254/254 [==============================] - 7s 27ms/step - loss: 1.0618 - accuracy: 0.5817 - val_loss: 1.5876 - val_accuracy: 0.4617\n",
      "Epoch 23/100\n",
      "254/254 [==============================] - 7s 27ms/step - loss: 1.0426 - accuracy: 0.5920 - val_loss: 1.6422 - val_accuracy: 0.4568\n",
      "Epoch 24/100\n",
      "254/254 [==============================] - 7s 28ms/step - loss: 1.0262 - accuracy: 0.5961 - val_loss: 1.6220 - val_accuracy: 0.4538\n",
      "Epoch 25/100\n",
      "254/254 [==============================] - 7s 29ms/step - loss: 0.9875 - accuracy: 0.6109 - val_loss: 1.6607 - val_accuracy: 0.4681\n",
      "Epoch 26/100\n",
      "254/254 [==============================] - 7s 29ms/step - loss: 0.9647 - accuracy: 0.6136 - val_loss: 1.7608 - val_accuracy: 0.4563\n",
      "Epoch 27/100\n",
      "254/254 [==============================] - 7s 29ms/step - loss: 0.9368 - accuracy: 0.6292 - val_loss: 1.6507 - val_accuracy: 0.4721\n",
      "Epoch 28/100\n",
      "254/254 [==============================] - 7s 29ms/step - loss: 0.9265 - accuracy: 0.6323 - val_loss: 1.7234 - val_accuracy: 0.4573\n",
      "Epoch 29/100\n",
      "254/254 [==============================] - 7s 29ms/step - loss: 0.9253 - accuracy: 0.6367 - val_loss: 1.8172 - val_accuracy: 0.4514\n",
      "Epoch 30/100\n",
      "254/254 [==============================] - 7s 29ms/step - loss: 0.8841 - accuracy: 0.6495 - val_loss: 1.8385 - val_accuracy: 0.4849\n",
      "Epoch 31/100\n",
      "254/254 [==============================] - 7s 29ms/step - loss: 0.8601 - accuracy: 0.6563 - val_loss: 1.8105 - val_accuracy: 0.4519\n",
      "Epoch 32/100\n",
      "254/254 [==============================] - 7s 29ms/step - loss: 0.8342 - accuracy: 0.6715 - val_loss: 1.8926 - val_accuracy: 0.4686\n",
      "Epoch 33/100\n",
      "254/254 [==============================] - 7s 29ms/step - loss: 0.8125 - accuracy: 0.6751 - val_loss: 1.8744 - val_accuracy: 0.4805\n",
      "Epoch 34/100\n",
      "254/254 [==============================] - 7s 29ms/step - loss: 0.7919 - accuracy: 0.6828 - val_loss: 2.0256 - val_accuracy: 0.4667\n",
      "Epoch 35/100\n",
      "254/254 [==============================] - 7s 29ms/step - loss: 0.7868 - accuracy: 0.6879 - val_loss: 1.9135 - val_accuracy: 0.4770\n",
      "Epoch 36/100\n",
      "254/254 [==============================] - 8s 30ms/step - loss: 0.7675 - accuracy: 0.6910 - val_loss: 2.0689 - val_accuracy: 0.4523\n",
      "Epoch 37/100\n",
      "254/254 [==============================] - 8s 33ms/step - loss: 0.7486 - accuracy: 0.6989 - val_loss: 2.0971 - val_accuracy: 0.4760\n",
      "Epoch 38/100\n",
      "254/254 [==============================] - 7s 29ms/step - loss: 0.7289 - accuracy: 0.7102 - val_loss: 2.1690 - val_accuracy: 0.4686\n",
      "Epoch 39/100\n",
      "254/254 [==============================] - 7s 27ms/step - loss: 0.7483 - accuracy: 0.7062 - val_loss: 2.1350 - val_accuracy: 0.4652\n",
      "Epoch 40/100\n",
      "254/254 [==============================] - 7s 28ms/step - loss: 0.7068 - accuracy: 0.7155 - val_loss: 2.1314 - val_accuracy: 0.4751\n",
      "Epoch 41/100\n",
      "254/254 [==============================] - 8s 31ms/step - loss: 0.6808 - accuracy: 0.7214 - val_loss: 2.0919 - val_accuracy: 0.4770\n",
      "Epoch 42/100\n",
      "254/254 [==============================] - 8s 31ms/step - loss: 0.6699 - accuracy: 0.7271 - val_loss: 2.2991 - val_accuracy: 0.4662\n",
      "Epoch 43/100\n",
      "254/254 [==============================] - 8s 33ms/step - loss: 0.6650 - accuracy: 0.7286 - val_loss: 2.1759 - val_accuracy: 0.4840\n",
      "Epoch 44/100\n",
      "254/254 [==============================] - 8s 32ms/step - loss: 0.6653 - accuracy: 0.7389 - val_loss: 2.1339 - val_accuracy: 0.4849\n",
      "Epoch 45/100\n",
      "254/254 [==============================] - 8s 33ms/step - loss: 0.6282 - accuracy: 0.7469 - val_loss: 2.2331 - val_accuracy: 0.4617\n",
      "Epoch 46/100\n",
      "254/254 [==============================] - 9s 34ms/step - loss: 0.6329 - accuracy: 0.7435 - val_loss: 2.2450 - val_accuracy: 0.4617\n",
      "Epoch 47/100\n",
      "254/254 [==============================] - 9s 34ms/step - loss: 0.6131 - accuracy: 0.7530 - val_loss: 2.4013 - val_accuracy: 0.4785\n",
      "Epoch 48/100\n",
      "254/254 [==============================] - 8s 31ms/step - loss: 0.6099 - accuracy: 0.7498 - val_loss: 2.4579 - val_accuracy: 0.4914\n",
      "Epoch 49/100\n",
      "254/254 [==============================] - 8s 32ms/step - loss: 0.5718 - accuracy: 0.7632 - val_loss: 2.3617 - val_accuracy: 0.4765\n",
      "Epoch 50/100\n",
      "254/254 [==============================] - 8s 33ms/step - loss: 0.6015 - accuracy: 0.7590 - val_loss: 2.4011 - val_accuracy: 0.4835\n",
      "Epoch 51/100\n",
      "254/254 [==============================] - 8s 32ms/step - loss: 0.5829 - accuracy: 0.7630 - val_loss: 2.3219 - val_accuracy: 0.4583\n",
      "Epoch 52/100\n",
      "254/254 [==============================] - 9s 34ms/step - loss: 0.5648 - accuracy: 0.7717 - val_loss: 2.5270 - val_accuracy: 0.4602\n",
      "Epoch 53/100\n",
      "254/254 [==============================] - 9s 34ms/step - loss: 0.5519 - accuracy: 0.7720 - val_loss: 2.5514 - val_accuracy: 0.4677\n",
      "Epoch 54/100\n",
      "254/254 [==============================] - 9s 34ms/step - loss: 0.5489 - accuracy: 0.7698 - val_loss: 2.4693 - val_accuracy: 0.4681\n",
      "Epoch 55/100\n",
      "254/254 [==============================] - 8s 33ms/step - loss: 0.5219 - accuracy: 0.7834 - val_loss: 2.6256 - val_accuracy: 0.4681\n",
      "Epoch 56/100\n",
      "254/254 [==============================] - 8s 33ms/step - loss: 0.5202 - accuracy: 0.7881 - val_loss: 2.5392 - val_accuracy: 0.4800\n",
      "Epoch 57/100\n",
      "254/254 [==============================] - 8s 33ms/step - loss: 0.5217 - accuracy: 0.7880 - val_loss: 2.5960 - val_accuracy: 0.4632\n",
      "Epoch 58/100\n",
      "254/254 [==============================] - 8s 32ms/step - loss: 0.4976 - accuracy: 0.7943 - val_loss: 2.7551 - val_accuracy: 0.4760\n",
      "Epoch 59/100\n",
      "254/254 [==============================] - 8s 31ms/step - loss: 0.5073 - accuracy: 0.7930 - val_loss: 2.7567 - val_accuracy: 0.4504\n",
      "Epoch 60/100\n",
      "254/254 [==============================] - 8s 31ms/step - loss: 0.5006 - accuracy: 0.7898 - val_loss: 2.6851 - val_accuracy: 0.4775\n",
      "Epoch 61/100\n",
      "254/254 [==============================] - 9s 34ms/step - loss: 0.4854 - accuracy: 0.7960 - val_loss: 2.6225 - val_accuracy: 0.4835\n",
      "Epoch 62/100\n",
      "254/254 [==============================] - 8s 33ms/step - loss: 0.4977 - accuracy: 0.7934 - val_loss: 2.7158 - val_accuracy: 0.4770\n",
      "Epoch 63/100\n",
      "254/254 [==============================] - 8s 32ms/step - loss: 0.4740 - accuracy: 0.8022 - val_loss: 2.8032 - val_accuracy: 0.4741\n",
      "Epoch 64/100\n",
      "254/254 [==============================] - 8s 32ms/step - loss: 0.4730 - accuracy: 0.8028 - val_loss: 2.8235 - val_accuracy: 0.4721\n",
      "Epoch 65/100\n",
      "254/254 [==============================] - 8s 32ms/step - loss: 0.4551 - accuracy: 0.8140 - val_loss: 2.7892 - val_accuracy: 0.4647\n",
      "Epoch 66/100\n",
      "254/254 [==============================] - 8s 33ms/step - loss: 0.4696 - accuracy: 0.8012 - val_loss: 2.9038 - val_accuracy: 0.4933\n",
      "Epoch 67/100\n",
      "254/254 [==============================] - 8s 31ms/step - loss: 0.4587 - accuracy: 0.8079 - val_loss: 2.9089 - val_accuracy: 0.4933\n",
      "Epoch 68/100\n",
      "254/254 [==============================] - 9s 34ms/step - loss: 0.4434 - accuracy: 0.8134 - val_loss: 2.8741 - val_accuracy: 0.4711\n",
      "Epoch 69/100\n",
      "254/254 [==============================] - 8s 32ms/step - loss: 0.4335 - accuracy: 0.8139 - val_loss: 2.8810 - val_accuracy: 0.4726\n",
      "Epoch 70/100\n",
      "254/254 [==============================] - 8s 30ms/step - loss: 0.4344 - accuracy: 0.8208 - val_loss: 2.9995 - val_accuracy: 0.4731\n",
      "Epoch 71/100\n",
      "254/254 [==============================] - 7s 28ms/step - loss: 0.4405 - accuracy: 0.8158 - val_loss: 2.9987 - val_accuracy: 0.4741\n",
      "Epoch 72/100\n",
      "254/254 [==============================] - 7s 27ms/step - loss: 0.4751 - accuracy: 0.8035 - val_loss: 3.0566 - val_accuracy: 0.4731\n",
      "Epoch 73/100\n",
      "254/254 [==============================] - 7s 27ms/step - loss: 0.4219 - accuracy: 0.8243 - val_loss: 3.0306 - val_accuracy: 0.4770\n",
      "Epoch 74/100\n",
      "254/254 [==============================] - 7s 28ms/step - loss: 0.3985 - accuracy: 0.8318 - val_loss: 3.1081 - val_accuracy: 0.4681\n",
      "Epoch 75/100\n",
      "254/254 [==============================] - 7s 29ms/step - loss: 0.3878 - accuracy: 0.8327 - val_loss: 3.1773 - val_accuracy: 0.4701\n",
      "Epoch 76/100\n",
      "254/254 [==============================] - 7s 28ms/step - loss: 0.4102 - accuracy: 0.8311 - val_loss: 3.1237 - val_accuracy: 0.4696\n",
      "Epoch 77/100\n",
      "254/254 [==============================] - 7s 28ms/step - loss: 0.4004 - accuracy: 0.8319 - val_loss: 3.0344 - val_accuracy: 0.4775\n",
      "Epoch 78/100\n",
      "254/254 [==============================] - 7s 28ms/step - loss: 0.4481 - accuracy: 0.8138 - val_loss: 3.2285 - val_accuracy: 0.4751\n",
      "Epoch 79/100\n",
      "254/254 [==============================] - 7s 28ms/step - loss: 0.3859 - accuracy: 0.8385 - val_loss: 3.2129 - val_accuracy: 0.4726\n",
      "Epoch 80/100\n",
      "254/254 [==============================] - 7s 27ms/step - loss: 0.3830 - accuracy: 0.8402 - val_loss: 3.2760 - val_accuracy: 0.4770\n",
      "Epoch 81/100\n",
      "254/254 [==============================] - 7s 27ms/step - loss: 0.3724 - accuracy: 0.8398 - val_loss: 3.4136 - val_accuracy: 0.4815\n",
      "Epoch 82/100\n",
      "254/254 [==============================] - 7s 28ms/step - loss: 0.3838 - accuracy: 0.8364 - val_loss: 3.1907 - val_accuracy: 0.4785\n",
      "Epoch 83/100\n",
      "254/254 [==============================] - 7s 27ms/step - loss: 0.3681 - accuracy: 0.8434 - val_loss: 3.1494 - val_accuracy: 0.4805\n",
      "Epoch 84/100\n",
      "254/254 [==============================] - 7s 27ms/step - loss: 0.3677 - accuracy: 0.8430 - val_loss: 3.1582 - val_accuracy: 0.4667\n",
      "Epoch 85/100\n",
      "254/254 [==============================] - 7s 29ms/step - loss: 0.3789 - accuracy: 0.8387 - val_loss: 3.1537 - val_accuracy: 0.4711\n",
      "Epoch 86/100\n",
      "254/254 [==============================] - 7s 27ms/step - loss: 0.3649 - accuracy: 0.8484 - val_loss: 3.1177 - val_accuracy: 0.4726\n",
      "Epoch 87/100\n",
      "254/254 [==============================] - 7s 28ms/step - loss: 0.3688 - accuracy: 0.8479 - val_loss: 3.3723 - val_accuracy: 0.4746\n",
      "Epoch 88/100\n",
      "254/254 [==============================] - 7s 28ms/step - loss: 0.3675 - accuracy: 0.8468 - val_loss: 3.2714 - val_accuracy: 0.4662\n",
      "Epoch 89/100\n",
      "254/254 [==============================] - 7s 27ms/step - loss: 0.3604 - accuracy: 0.8476 - val_loss: 3.1312 - val_accuracy: 0.4820\n",
      "Epoch 90/100\n",
      "254/254 [==============================] - 7s 28ms/step - loss: 0.3619 - accuracy: 0.8451 - val_loss: 3.1545 - val_accuracy: 0.4751\n",
      "Epoch 91/100\n",
      "254/254 [==============================] - 7s 27ms/step - loss: 0.3420 - accuracy: 0.8513 - val_loss: 3.3367 - val_accuracy: 0.4686\n",
      "Epoch 92/100\n",
      "254/254 [==============================] - 7s 27ms/step - loss: 0.3653 - accuracy: 0.8464 - val_loss: 3.1441 - val_accuracy: 0.4751\n",
      "Epoch 93/100\n",
      "254/254 [==============================] - 7s 27ms/step - loss: 0.3419 - accuracy: 0.8512 - val_loss: 3.3269 - val_accuracy: 0.4617\n",
      "Epoch 94/100\n",
      "254/254 [==============================] - 7s 28ms/step - loss: 0.3552 - accuracy: 0.8516 - val_loss: 3.2098 - val_accuracy: 0.4731\n",
      "Epoch 95/100\n",
      "254/254 [==============================] - 7s 27ms/step - loss: 0.3304 - accuracy: 0.8584 - val_loss: 3.3727 - val_accuracy: 0.4543\n",
      "Epoch 96/100\n",
      "254/254 [==============================] - 7s 28ms/step - loss: 0.3259 - accuracy: 0.8603 - val_loss: 3.6577 - val_accuracy: 0.4558\n",
      "Epoch 97/100\n",
      "254/254 [==============================] - 7s 27ms/step - loss: 0.3320 - accuracy: 0.8633 - val_loss: 3.3413 - val_accuracy: 0.4746\n",
      "Epoch 98/100\n",
      "254/254 [==============================] - 7s 27ms/step - loss: 0.3165 - accuracy: 0.8617 - val_loss: 3.6281 - val_accuracy: 0.4805\n",
      "Epoch 99/100\n",
      "254/254 [==============================] - 7s 28ms/step - loss: 0.3308 - accuracy: 0.8610 - val_loss: 3.3603 - val_accuracy: 0.4696\n",
      "Epoch 100/100\n",
      "254/254 [==============================] - 7s 27ms/step - loss: 0.3449 - accuracy: 0.8556 - val_loss: 3.1234 - val_accuracy: 0.4657\n"
     ]
    }
   ],
   "source": [
    "ann.compile(optimizer='adam', \n",
    "              loss = 'categorical_crossentropy',\n",
    "              metrics = ['accuracy'])\n",
    "\n",
    "history = ann.fit(X_train, Y_train, epochs=100, validation_data=(X_test, Y_test))"
   ]
  },
  {
   "cell_type": "code",
   "execution_count": 114,
   "metadata": {},
   "outputs": [
    {
     "name": "stdout",
     "output_type": "stream",
     "text": [
      "64/64 [==============================] - 1s 12ms/step - loss: 3.1234 - accuracy: 0.4657\n"
     ]
    },
    {
     "data": {
      "text/plain": [
       "[3.123411178588867, 0.46567901968955994]"
      ]
     },
     "execution_count": 114,
     "metadata": {},
     "output_type": "execute_result"
    }
   ],
   "source": [
    "ann.evaluate(X_test,Y_test)"
   ]
  },
  {
   "cell_type": "code",
   "execution_count": 115,
   "metadata": {},
   "outputs": [
    {
     "name": "stdout",
     "output_type": "stream",
     "text": [
      "64/64 [==============================] - 1s 11ms/step\n"
     ]
    },
    {
     "data": {
      "image/png": "[encoded data removed]",
      "text/plain": [
       "<Figure size 640x480 with 2 Axes>"
      ]
     },
     "metadata": {},
     "output_type": "display_data"
    }
   ],
   "source": [
    "y_pred = ann.predict(X_test)\n",
    "y_pred_classes = y_pred.argmax(axis=1)\n",
    "y_test_classes = Y_test.argmax(axis=1)\n",
    "\n",
    "conf_matrix = confusion_matrix(y_test_classes, y_pred_classes)\n",
    "sns.heatmap(conf_matrix, annot=True, cmap='Blues', fmt='d')\n",
    "plt.xlabel('Predicted Class')\n",
    "plt.ylabel('True Class')\n",
    "plt.title('Confusion Matrix')\n",
    "plt.show()"
   ]
  },
  {
   "cell_type": "code",
   "execution_count": 116,
   "metadata": {},
   "outputs": [
    {
     "data": {
      "image/png": "[encoded data removed]",
      "text/plain": [
       "<Figure size 640x480 with 1 Axes>"
      ]
     },
     "metadata": {},
     "output_type": "display_data"
    }
   ],
   "source": [
    "plt.plot(history.history['accuracy'], label='Training Accuracy')\n",
    "plt.plot(history.history['val_accuracy'], label='Validation Accuracy')\n",
    "plt.xlabel('Epoch')\n",
    "plt.ylabel('Accuracy')\n",
    "plt.legend()\n",
    "plt.title('Training and Validation Accuracy')\n",
    "plt.show()"
   ]
  }
 ],
 "metadata": {
  "kernelspec": {
   "display_name": "base",
   "language": "python",
   "name": "python3"
  },
  "language_info": {
   "codemirror_mode": {
    "name": "ipython",
    "version": 3
   },
   "file_extension": ".py",
   "mimetype": "text/x-python",
   "name": "python",
   "nbconvert_exporter": "python",
   "pygments_lexer": "ipython3",
   "version": "3.10.9"
  },
  "orig_nbformat": 4
 },
 "nbformat": 4,
 "nbformat_minor": 2
}
