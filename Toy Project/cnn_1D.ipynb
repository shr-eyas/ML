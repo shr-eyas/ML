{
 "cells": [
  {
   "cell_type": "code",
   "execution_count": 122,
   "metadata": {},
   "outputs": [],
   "source": [
    "import pandas as pd\n",
    "import numpy as np\n",
    "import matplotlib.pyplot as plt\n",
    "from pymatgen.ext.matproj import MPRester\n",
    "from matminer.featurizers.structure import OrbitalFieldMatrix\n",
    "from multiprocessing import Pool\n",
    "import pickle\n",
    "import glob\n",
    "import os\n",
    "import tensorflow as tf\n",
    "from tensorflow import keras\n",
    "from tensorflow.keras.models import Sequential\n",
    "from tensorflow.keras.layers import Dense\n",
    "from tensorflow.keras.preprocessing.text import Tokenizer\n",
    "from tensorflow.keras.layers import Conv1D, MaxPooling1D, Flatten\n",
    "from sklearn.metrics import confusion_matrix\n",
    "import seaborn as sns"
   ]
  },
  {
   "cell_type": "code",
   "execution_count": 5,
   "metadata": {},
   "outputs": [
    {
     "name": "stderr",
     "output_type": "stream",
     "text": [
      "c:\\Users\\shrey\\anaconda3\\lib\\site-packages\\pymatgen\\ext\\matproj.py:186: UserWarning: You are using the legacy MPRester. This version of the MPRester will no longer be updated. To access the latest data with the new MPRester, obtain a new API key from https://materialsproject.org/api and consult the docs at https://docs.materialsproject.org/ for more information.\n",
      "  warnings.warn(\n"
     ]
    }
   ],
   "source": [
    "mpr = MPRester(\"mv0hJgupKqxOTd9c\")\n",
    "df = pd.read_csv('totalxtrain.csv')\n",
    "material_ids = df['material_id']\n",
    "orbital_field_matrix_featurizer = OrbitalFieldMatrix(flatten=False)\n",
    "all_features = []"
   ]
  },
  {
   "cell_type": "code",
   "execution_count": 15,
   "metadata": {},
   "outputs": [
    {
     "name": "stdout",
     "output_type": "stream",
     "text": [
      "Loaded features up to index 8098\n",
      "Process completed.\n"
     ]
    }
   ],
   "source": [
    "start_index = 0\n",
    "\n",
    "try:\n",
    "    with open('features.pkl', 'rb') as f:\n",
    "        all_features = pickle.load(f)\n",
    "        start_index = len(all_features)\n",
    "        print(f\"Loaded features up to index {start_index}\")\n",
    "\n",
    "    for i in range(start_index, len(material_ids)):\n",
    "        material_id = material_ids[i]\n",
    "        structure = mpr.get_structure_by_material_id(material_id)\n",
    "        features = orbital_field_matrix_featurizer.featurize(structure)\n",
    "        all_features.append(features)\n",
    "\n",
    "        if i % 100 == 0:\n",
    "            with open('features.pkl', 'wb') as f:\n",
    "                pickle.dump(all_features, f)\n",
    "                print(f\"Saved features up to index {i}\")\n",
    "\n",
    "except Exception as e:\n",
    "    print(\"An error occurred:\", str(e))\n",
    "    print(\"Saving progress...\")\n",
    "    with open('features.pkl', 'wb') as f:\n",
    "        pickle.dump(all_features, f)\n",
    "        print(f\"Saved features up to index {start_index}\")\n",
    "\n",
    "with open('features.pkl', 'wb') as f:\n",
    "    pickle.dump(all_features, f)\n",
    "\n",
    "print(\"Process completed.\")"
   ]
  },
  {
   "cell_type": "code",
   "execution_count": 25,
   "metadata": {},
   "outputs": [
    {
     "data": {
      "text/plain": [
       "8098"
      ]
     },
     "execution_count": 25,
     "metadata": {},
     "output_type": "execute_result"
    }
   ],
   "source": [
    "len(all_features)"
   ]
  },
  {
   "cell_type": "code",
   "execution_count": 8,
   "metadata": {},
   "outputs": [
    {
     "data": {
      "text/plain": [
       "0       mp-1188260\n",
       "1         mp-12192\n",
       "2        mp-558475\n",
       "3       mp-1095492\n",
       "4          mp-4661\n",
       "           ...    \n",
       "2020     mp-744567\n",
       "2021      mp-12646\n",
       "2022     mp-706444\n",
       "2023     mp-696152\n",
       "2024    mp-1179030\n",
       "Name: material_id, Length: 2025, dtype: object"
      ]
     },
     "execution_count": 8,
     "metadata": {},
     "output_type": "execute_result"
    }
   ],
   "source": [
    "df_test = pd.read_csv('totalxtest.csv')\n",
    "material_ids_test = df_test['material_id']\n",
    "material_ids_test"
   ]
  },
  {
   "cell_type": "code",
   "execution_count": 21,
   "metadata": {},
   "outputs": [],
   "source": [
    "orbital_field_matrix_featurizer = OrbitalFieldMatrix(flatten=False)\n",
    "all_features_test = []\n",
    "\n",
    "for i in range(0, len(material_ids_test)):\n",
    "    material_id_test = material_ids_test[i]\n",
    "    structure = mpr.get_structure_by_material_id(material_id_test)\n",
    "    features = orbital_field_matrix_featurizer.featurize(structure)\n",
    "    all_features_test.append(features)"
   ]
  },
  {
   "cell_type": "code",
   "execution_count": 26,
   "metadata": {},
   "outputs": [
    {
     "data": {
      "text/plain": [
       "2025"
      ]
     },
     "execution_count": 26,
     "metadata": {},
     "output_type": "execute_result"
    }
   ],
   "source": [
    "len(all_features_test)"
   ]
  },
  {
   "cell_type": "code",
   "execution_count": 132,
   "metadata": {},
   "outputs": [
    {
     "data": {
      "text/plain": [
       "(8098, 1, 32, 32)"
      ]
     },
     "execution_count": 132,
     "metadata": {},
     "output_type": "execute_result"
    }
   ],
   "source": [
    "x = np.array(all_features)\n",
    "X_train = [np.ravel(row) for row in x] \n",
    "X_train = np.reshape(X_train,(8098,1024))\n",
    "x.shape"
   ]
  },
  {
   "cell_type": "code",
   "execution_count": 68,
   "metadata": {},
   "outputs": [],
   "source": [
    "x_test = np.array(all_features_test)\n",
    "X_test = [np.ravel(row) for row in x_test]\n",
    "X_test = np.reshape(X_test,(2025,1024))"
   ]
  },
  {
   "cell_type": "code",
   "execution_count": 92,
   "metadata": {},
   "outputs": [
    {
     "data": {
      "text/plain": [
       "'orthorhombic'"
      ]
     },
     "execution_count": 92,
     "metadata": {},
     "output_type": "execute_result"
    }
   ],
   "source": [
    "y = df['crystal_system']\n",
    "y_test = df_test['crystal_system']\n",
    "y[0]"
   ]
  },
  {
   "cell_type": "code",
   "execution_count": 94,
   "metadata": {},
   "outputs": [
    {
     "name": "stdout",
     "output_type": "stream",
     "text": [
      "Word Index: {'monoclinic': 1, 'orthorhombic': 2, 'tetragonal': 3, 'triclinic': 4, 'cubic': 5, 'trigonal': 6, 'hexagonal': 7}\n"
     ]
    }
   ],
   "source": [
    "tokenizer = Tokenizer()\n",
    "tokenizer.fit_on_texts(y)\n",
    "word_index = tokenizer.word_index\n",
    "print(\"Word Index:\", word_index)\n",
    "sequences = tokenizer.texts_to_sequences(y)\n",
    "\n",
    "vector = np.array(sequences)\n",
    "Y_train = keras.utils.to_categorical(\n",
    "    vector-1, num_classes=7, dtype='float32'\n",
    ")"
   ]
  },
  {
   "cell_type": "code",
   "execution_count": 95,
   "metadata": {},
   "outputs": [],
   "source": [
    "tokenizer = Tokenizer()\n",
    "tokenizer.fit_on_texts(y_test)\n",
    "word_index = tokenizer.word_index\n",
    "sequences = tokenizer.texts_to_sequences(y_test)\n",
    "\n",
    "vector_test = np.array(sequences)\n",
    "Y_test = keras.utils.to_categorical(\n",
    "    vector_test-1, num_classes=7, dtype='float32'\n",
    ")"
   ]
  },
  {
   "cell_type": "code",
   "execution_count": 126,
   "metadata": {},
   "outputs": [],
   "source": [
    "cnn = Sequential([\n",
    "    # Conv1D\n",
    "    Conv1D(filters=512, kernel_size=5, activation='relu', input_shape=(1024, 1)),\n",
    "    MaxPooling1D(pool_size=2),\n",
    "\n",
    "    # Conv1D\n",
    "    Conv1D(filters=256, kernel_size=5, activation='relu'),\n",
    "    MaxPooling1D(pool_size=2),\n",
    "\n",
    "    # Conv1D\n",
    "    Conv1D(filters=128, kernel_size=3, activation='relu'),\n",
    "    MaxPooling1D(pool_size=2),      \n",
    "       \n",
    "    # Conv1D\n",
    "    Conv1D(filters=64, kernel_size=3, activation='relu'),\n",
    "    MaxPooling1D(pool_size=2),\n",
    "    \n",
    "    # Dense\n",
    "    Flatten(),\n",
    "    Dense(units=64, activation='relu'),\n",
    "    Dense(units=16, activation='relu'),\n",
    "    Dense(units=7, activation='softmax')\n",
    "])"
   ]
  },
  {
   "cell_type": "code",
   "execution_count": 127,
   "metadata": {},
   "outputs": [
    {
     "name": "stdout",
     "output_type": "stream",
     "text": [
      "Epoch 1/100\n",
      "254/254 [==============================] - 119s 463ms/step - loss: 1.7152 - accuracy: 0.3472 - val_loss: 1.6585 - val_accuracy: 0.3812\n",
      "Epoch 2/100\n",
      "254/254 [==============================] - 117s 461ms/step - loss: 1.6386 - accuracy: 0.3658 - val_loss: 1.6135 - val_accuracy: 0.3723\n",
      "Epoch 3/100\n",
      "254/254 [==============================] - 118s 464ms/step - loss: 1.5917 - accuracy: 0.3859 - val_loss: 1.6004 - val_accuracy: 0.3916\n",
      "Epoch 4/100\n",
      "254/254 [==============================] - 119s 468ms/step - loss: 1.5650 - accuracy: 0.4020 - val_loss: 1.5862 - val_accuracy: 0.3951\n",
      "Epoch 5/100\n",
      "254/254 [==============================] - 116s 456ms/step - loss: 1.5314 - accuracy: 0.4069 - val_loss: 1.5336 - val_accuracy: 0.4198\n",
      "Epoch 6/100\n",
      "254/254 [==============================] - 116s 456ms/step - loss: 1.5057 - accuracy: 0.4190 - val_loss: 1.5330 - val_accuracy: 0.4247\n",
      "Epoch 7/100\n",
      "254/254 [==============================] - 117s 459ms/step - loss: 1.4849 - accuracy: 0.4212 - val_loss: 1.5162 - val_accuracy: 0.4217\n",
      "Epoch 8/100\n",
      "254/254 [==============================] - 105s 414ms/step - loss: 1.4642 - accuracy: 0.4304 - val_loss: 1.5282 - val_accuracy: 0.4173\n",
      "Epoch 9/100\n",
      "254/254 [==============================] - 103s 404ms/step - loss: 1.4502 - accuracy: 0.4388 - val_loss: 1.5050 - val_accuracy: 0.4415\n",
      "Epoch 10/100\n",
      "254/254 [==============================] - 103s 407ms/step - loss: 1.4287 - accuracy: 0.4470 - val_loss: 1.4793 - val_accuracy: 0.4459\n",
      "Epoch 11/100\n",
      "254/254 [==============================] - 104s 411ms/step - loss: 1.4100 - accuracy: 0.4543 - val_loss: 1.4876 - val_accuracy: 0.4410\n",
      "Epoch 12/100\n",
      "254/254 [==============================] - 103s 406ms/step - loss: 1.3978 - accuracy: 0.4576 - val_loss: 1.4682 - val_accuracy: 0.4528\n",
      "Epoch 13/100\n",
      "254/254 [==============================] - 104s 408ms/step - loss: 1.3686 - accuracy: 0.4689 - val_loss: 1.4715 - val_accuracy: 0.4464\n",
      "Epoch 14/100\n",
      "254/254 [==============================] - 103s 407ms/step - loss: 1.3580 - accuracy: 0.4726 - val_loss: 1.4638 - val_accuracy: 0.4528\n",
      "Epoch 15/100\n",
      "254/254 [==============================] - 103s 407ms/step - loss: 1.3325 - accuracy: 0.4802 - val_loss: 1.4681 - val_accuracy: 0.4523\n",
      "Epoch 16/100\n",
      "254/254 [==============================] - 107s 422ms/step - loss: 1.3282 - accuracy: 0.4879 - val_loss: 1.4573 - val_accuracy: 0.4548\n",
      "Epoch 17/100\n",
      "254/254 [==============================] - 109s 429ms/step - loss: 1.3104 - accuracy: 0.4873 - val_loss: 1.4678 - val_accuracy: 0.4509\n",
      "Epoch 18/100\n",
      "254/254 [==============================] - 106s 417ms/step - loss: 1.2815 - accuracy: 0.5020 - val_loss: 1.4593 - val_accuracy: 0.4533\n",
      "Epoch 19/100\n",
      "254/254 [==============================] - 106s 418ms/step - loss: 1.2798 - accuracy: 0.5007 - val_loss: 1.4962 - val_accuracy: 0.4385\n",
      "Epoch 20/100\n",
      "254/254 [==============================] - 107s 421ms/step - loss: 1.2493 - accuracy: 0.5177 - val_loss: 1.4766 - val_accuracy: 0.4563\n",
      "Epoch 21/100\n",
      "254/254 [==============================] - 109s 430ms/step - loss: 1.2301 - accuracy: 0.5203 - val_loss: 1.4381 - val_accuracy: 0.4528\n",
      "Epoch 22/100\n",
      "254/254 [==============================] - 107s 423ms/step - loss: 1.2100 - accuracy: 0.5267 - val_loss: 1.4993 - val_accuracy: 0.4563\n",
      "Epoch 23/100\n",
      "254/254 [==============================] - 107s 421ms/step - loss: 1.1929 - accuracy: 0.5356 - val_loss: 1.4828 - val_accuracy: 0.4637\n",
      "Epoch 24/100\n",
      "254/254 [==============================] - 112s 442ms/step - loss: 1.1843 - accuracy: 0.5411 - val_loss: 1.4445 - val_accuracy: 0.4672\n",
      "Epoch 25/100\n",
      "254/254 [==============================] - 107s 423ms/step - loss: 1.1665 - accuracy: 0.5449 - val_loss: 1.4601 - val_accuracy: 0.4578\n",
      "Epoch 26/100\n",
      "254/254 [==============================] - 104s 410ms/step - loss: 1.1482 - accuracy: 0.5532 - val_loss: 1.4850 - val_accuracy: 0.4637\n",
      "Epoch 27/100\n",
      "254/254 [==============================] - 106s 417ms/step - loss: 1.1213 - accuracy: 0.5656 - val_loss: 1.4988 - val_accuracy: 0.4652\n",
      "Epoch 28/100\n",
      "254/254 [==============================] - 104s 411ms/step - loss: 1.1089 - accuracy: 0.5685 - val_loss: 1.4937 - val_accuracy: 0.4573\n",
      "Epoch 29/100\n",
      "254/254 [==============================] - 103s 404ms/step - loss: 1.0907 - accuracy: 0.5811 - val_loss: 1.4823 - val_accuracy: 0.4612\n",
      "Epoch 30/100\n",
      "254/254 [==============================] - 104s 408ms/step - loss: 1.0753 - accuracy: 0.5866 - val_loss: 1.5111 - val_accuracy: 0.4706\n",
      "Epoch 31/100\n",
      "254/254 [==============================] - 104s 409ms/step - loss: 1.0464 - accuracy: 0.5931 - val_loss: 1.5613 - val_accuracy: 0.4533\n",
      "Epoch 32/100\n",
      "254/254 [==============================] - 105s 414ms/step - loss: 1.0307 - accuracy: 0.5983 - val_loss: 1.5836 - val_accuracy: 0.4356\n",
      "Epoch 33/100\n",
      "254/254 [==============================] - 103s 406ms/step - loss: 1.0417 - accuracy: 0.5994 - val_loss: 1.5280 - val_accuracy: 0.4568\n",
      "Epoch 34/100\n",
      "254/254 [==============================] - 108s 425ms/step - loss: 1.0032 - accuracy: 0.6110 - val_loss: 1.5499 - val_accuracy: 0.4459\n",
      "Epoch 35/100\n",
      "254/254 [==============================] - 103s 405ms/step - loss: 0.9807 - accuracy: 0.6189 - val_loss: 1.5308 - val_accuracy: 0.4627\n",
      "Epoch 36/100\n",
      "254/254 [==============================] - 102s 403ms/step - loss: 0.9713 - accuracy: 0.6213 - val_loss: 1.5624 - val_accuracy: 0.4637\n",
      "Epoch 37/100\n",
      "254/254 [==============================] - 102s 402ms/step - loss: 0.9639 - accuracy: 0.6246 - val_loss: 1.5600 - val_accuracy: 0.4602\n",
      "Epoch 38/100\n",
      "254/254 [==============================] - 104s 408ms/step - loss: 0.9360 - accuracy: 0.6339 - val_loss: 1.7031 - val_accuracy: 0.4494\n",
      "Epoch 39/100\n",
      "254/254 [==============================] - 104s 411ms/step - loss: 0.9220 - accuracy: 0.6407 - val_loss: 1.6355 - val_accuracy: 0.4662\n",
      "Epoch 40/100\n",
      "254/254 [==============================] - 102s 401ms/step - loss: 0.9057 - accuracy: 0.6508 - val_loss: 1.6702 - val_accuracy: 0.4672\n",
      "Epoch 41/100\n",
      "254/254 [==============================] - 103s 404ms/step - loss: 0.8880 - accuracy: 0.6584 - val_loss: 1.6622 - val_accuracy: 0.4701\n",
      "Epoch 42/100\n",
      "254/254 [==============================] - 104s 409ms/step - loss: 0.8742 - accuracy: 0.6573 - val_loss: 1.6437 - val_accuracy: 0.4642\n",
      "Epoch 43/100\n",
      "254/254 [==============================] - 118s 463ms/step - loss: 0.8634 - accuracy: 0.6712 - val_loss: 1.7071 - val_accuracy: 0.4652\n",
      "Epoch 44/100\n",
      "254/254 [==============================] - 105s 413ms/step - loss: 0.8464 - accuracy: 0.6681 - val_loss: 1.7352 - val_accuracy: 0.4558\n",
      "Epoch 45/100\n",
      "254/254 [==============================] - 106s 418ms/step - loss: 0.8315 - accuracy: 0.6793 - val_loss: 1.7009 - val_accuracy: 0.4716\n",
      "Epoch 46/100\n",
      "254/254 [==============================] - 117s 459ms/step - loss: 0.8202 - accuracy: 0.6812 - val_loss: 1.7812 - val_accuracy: 0.4642\n",
      "Epoch 47/100\n",
      "254/254 [==============================] - 164s 646ms/step - loss: 0.8084 - accuracy: 0.6854 - val_loss: 1.7249 - val_accuracy: 0.4716\n",
      "Epoch 48/100\n",
      "254/254 [==============================] - 110s 434ms/step - loss: 0.7817 - accuracy: 0.6972 - val_loss: 1.8129 - val_accuracy: 0.4830\n",
      "Epoch 49/100\n",
      "254/254 [==============================] - 132s 520ms/step - loss: 0.7819 - accuracy: 0.6928 - val_loss: 1.8342 - val_accuracy: 0.4686\n",
      "Epoch 50/100\n",
      "254/254 [==============================] - 118s 465ms/step - loss: 0.7597 - accuracy: 0.7030 - val_loss: 1.8990 - val_accuracy: 0.4677\n",
      "Epoch 51/100\n",
      "254/254 [==============================] - 109s 431ms/step - loss: 0.7463 - accuracy: 0.7093 - val_loss: 1.8588 - val_accuracy: 0.4696\n",
      "Epoch 52/100\n",
      "254/254 [==============================] - 105s 415ms/step - loss: 0.7487 - accuracy: 0.7035 - val_loss: 1.9503 - val_accuracy: 0.4622\n",
      "Epoch 53/100\n",
      "254/254 [==============================] - 106s 418ms/step - loss: 0.7234 - accuracy: 0.7151 - val_loss: 1.9390 - val_accuracy: 0.4686\n",
      "Epoch 54/100\n",
      "254/254 [==============================] - 103s 407ms/step - loss: 0.7186 - accuracy: 0.7204 - val_loss: 1.9561 - val_accuracy: 0.4701\n",
      "Epoch 55/100\n",
      "254/254 [==============================] - 105s 415ms/step - loss: 0.7394 - accuracy: 0.7103 - val_loss: 1.9993 - val_accuracy: 0.4721\n",
      "Epoch 56/100\n",
      "254/254 [==============================] - 105s 415ms/step - loss: 0.6889 - accuracy: 0.7323 - val_loss: 1.9912 - val_accuracy: 0.4667\n",
      "Epoch 57/100\n",
      "254/254 [==============================] - 106s 417ms/step - loss: 0.7082 - accuracy: 0.7265 - val_loss: 2.0208 - val_accuracy: 0.4677\n",
      "Epoch 58/100\n",
      "254/254 [==============================] - 116s 456ms/step - loss: 0.6553 - accuracy: 0.7451 - val_loss: 2.0722 - val_accuracy: 0.4736\n",
      "Epoch 59/100\n",
      "254/254 [==============================] - 118s 464ms/step - loss: 0.6502 - accuracy: 0.7469 - val_loss: 2.1148 - val_accuracy: 0.4696\n",
      "Epoch 60/100\n",
      "254/254 [==============================] - 128s 503ms/step - loss: 0.6559 - accuracy: 0.7397 - val_loss: 2.0656 - val_accuracy: 0.4711\n",
      "Epoch 61/100\n",
      "254/254 [==============================] - 135s 530ms/step - loss: 0.6812 - accuracy: 0.7335 - val_loss: 2.1678 - val_accuracy: 0.4602\n",
      "Epoch 62/100\n",
      "254/254 [==============================] - 130s 510ms/step - loss: 0.6411 - accuracy: 0.7506 - val_loss: 2.1897 - val_accuracy: 0.4741\n",
      "Epoch 63/100\n",
      "254/254 [==============================] - 124s 489ms/step - loss: 0.6306 - accuracy: 0.7525 - val_loss: 2.1396 - val_accuracy: 0.4681\n",
      "Epoch 64/100\n",
      "254/254 [==============================] - 110s 434ms/step - loss: 0.6017 - accuracy: 0.7675 - val_loss: 2.3356 - val_accuracy: 0.4716\n",
      "Epoch 65/100\n",
      "254/254 [==============================] - 108s 426ms/step - loss: 0.5976 - accuracy: 0.7639 - val_loss: 2.1556 - val_accuracy: 0.4642\n",
      "Epoch 66/100\n",
      "254/254 [==============================] - 104s 410ms/step - loss: 0.6179 - accuracy: 0.7592 - val_loss: 2.2248 - val_accuracy: 0.4765\n",
      "Epoch 67/100\n",
      "254/254 [==============================] - 106s 419ms/step - loss: 0.6227 - accuracy: 0.7555 - val_loss: 2.2450 - val_accuracy: 0.4632\n",
      "Epoch 68/100\n",
      "254/254 [==============================] - 171s 674ms/step - loss: 0.6026 - accuracy: 0.7660 - val_loss: 2.3073 - val_accuracy: 0.4849\n",
      "Epoch 69/100\n",
      "254/254 [==============================] - 148s 584ms/step - loss: 0.5873 - accuracy: 0.7690 - val_loss: 2.3836 - val_accuracy: 0.4686\n",
      "Epoch 70/100\n",
      "254/254 [==============================] - 132s 519ms/step - loss: 0.5690 - accuracy: 0.7785 - val_loss: 2.3103 - val_accuracy: 0.4657\n",
      "Epoch 71/100\n",
      "254/254 [==============================] - 133s 524ms/step - loss: 0.5540 - accuracy: 0.7892 - val_loss: 2.3732 - val_accuracy: 0.4731\n",
      "Epoch 72/100\n",
      "254/254 [==============================] - 141s 555ms/step - loss: 0.5585 - accuracy: 0.7824 - val_loss: 2.3674 - val_accuracy: 0.4815\n",
      "Epoch 73/100\n",
      "254/254 [==============================] - 160s 632ms/step - loss: 0.5442 - accuracy: 0.7903 - val_loss: 2.4103 - val_accuracy: 0.4711\n",
      "Epoch 74/100\n",
      "254/254 [==============================] - 157s 620ms/step - loss: 0.5366 - accuracy: 0.7970 - val_loss: 2.4837 - val_accuracy: 0.4785\n",
      "Epoch 75/100\n",
      "254/254 [==============================] - 174s 687ms/step - loss: 0.5327 - accuracy: 0.7892 - val_loss: 2.4666 - val_accuracy: 0.4746\n",
      "Epoch 76/100\n",
      "254/254 [==============================] - 163s 642ms/step - loss: 0.5120 - accuracy: 0.8019 - val_loss: 2.5162 - val_accuracy: 0.4637\n",
      "Epoch 77/100\n",
      "254/254 [==============================] - 161s 632ms/step - loss: 0.5223 - accuracy: 0.7943 - val_loss: 2.4811 - val_accuracy: 0.4731\n",
      "Epoch 78/100\n",
      "254/254 [==============================] - 153s 604ms/step - loss: 0.5390 - accuracy: 0.7877 - val_loss: 2.5610 - val_accuracy: 0.4800\n",
      "Epoch 79/100\n",
      "254/254 [==============================] - 130s 512ms/step - loss: 0.4956 - accuracy: 0.8085 - val_loss: 2.5124 - val_accuracy: 0.4770\n",
      "Epoch 80/100\n",
      "254/254 [==============================] - 110s 434ms/step - loss: 0.5065 - accuracy: 0.7976 - val_loss: 2.4956 - val_accuracy: 0.4790\n",
      "Epoch 81/100\n",
      "254/254 [==============================] - 113s 446ms/step - loss: 0.5026 - accuracy: 0.8043 - val_loss: 2.5210 - val_accuracy: 0.4795\n",
      "Epoch 82/100\n",
      "254/254 [==============================] - 116s 455ms/step - loss: 0.4937 - accuracy: 0.8014 - val_loss: 2.6462 - val_accuracy: 0.4770\n",
      "Epoch 83/100\n",
      "254/254 [==============================] - 113s 444ms/step - loss: 0.4948 - accuracy: 0.8051 - val_loss: 2.6855 - val_accuracy: 0.4854\n",
      "Epoch 84/100\n",
      "254/254 [==============================] - 113s 446ms/step - loss: 0.5116 - accuracy: 0.8014 - val_loss: 2.7017 - val_accuracy: 0.4835\n",
      "Epoch 85/100\n",
      "254/254 [==============================] - 118s 466ms/step - loss: 0.4660 - accuracy: 0.8175 - val_loss: 2.5917 - val_accuracy: 0.4840\n",
      "Epoch 86/100\n",
      "254/254 [==============================] - 117s 460ms/step - loss: 0.4658 - accuracy: 0.8207 - val_loss: 2.7462 - val_accuracy: 0.4805\n",
      "Epoch 87/100\n",
      "254/254 [==============================] - 114s 448ms/step - loss: 0.4460 - accuracy: 0.8264 - val_loss: 2.7128 - val_accuracy: 0.4790\n",
      "Epoch 88/100\n",
      "254/254 [==============================] - 111s 437ms/step - loss: 0.4687 - accuracy: 0.8193 - val_loss: 2.8307 - val_accuracy: 0.4677\n",
      "Epoch 89/100\n",
      "254/254 [==============================] - 113s 445ms/step - loss: 0.4699 - accuracy: 0.8209 - val_loss: 2.7113 - val_accuracy: 0.4849\n",
      "Epoch 90/100\n",
      "254/254 [==============================] - 122s 479ms/step - loss: 0.4405 - accuracy: 0.8276 - val_loss: 2.7966 - val_accuracy: 0.4795\n",
      "Epoch 91/100\n",
      "254/254 [==============================] - 121s 476ms/step - loss: 0.4625 - accuracy: 0.8218 - val_loss: 2.7438 - val_accuracy: 0.4677\n",
      "Epoch 92/100\n",
      "254/254 [==============================] - 120s 473ms/step - loss: 0.4457 - accuracy: 0.8267 - val_loss: 2.8451 - val_accuracy: 0.4652\n",
      "Epoch 93/100\n",
      "254/254 [==============================] - 131s 516ms/step - loss: 0.4419 - accuracy: 0.8246 - val_loss: 2.8276 - val_accuracy: 0.4701\n",
      "Epoch 94/100\n",
      "254/254 [==============================] - 131s 517ms/step - loss: 0.4279 - accuracy: 0.8355 - val_loss: 2.9079 - val_accuracy: 0.4859\n",
      "Epoch 95/100\n",
      "254/254 [==============================] - 117s 462ms/step - loss: 0.4392 - accuracy: 0.8263 - val_loss: 3.0461 - val_accuracy: 0.4810\n",
      "Epoch 96/100\n",
      "254/254 [==============================] - 171s 675ms/step - loss: 0.4224 - accuracy: 0.8326 - val_loss: 2.9171 - val_accuracy: 0.4760\n",
      "Epoch 97/100\n",
      "254/254 [==============================] - 149s 586ms/step - loss: 0.4417 - accuracy: 0.8277 - val_loss: 2.8708 - val_accuracy: 0.4928\n",
      "Epoch 98/100\n",
      "254/254 [==============================] - 147s 580ms/step - loss: 0.4106 - accuracy: 0.8376 - val_loss: 2.8319 - val_accuracy: 0.4756\n",
      "Epoch 99/100\n",
      "254/254 [==============================] - 164s 648ms/step - loss: 0.4583 - accuracy: 0.8204 - val_loss: 2.9731 - val_accuracy: 0.4879\n",
      "Epoch 100/100\n",
      "254/254 [==============================] - 180s 707ms/step - loss: 0.4216 - accuracy: 0.8327 - val_loss: 2.8361 - val_accuracy: 0.4775\n"
     ]
    }
   ],
   "source": [
    "cnn.compile(optimizer='adam', \n",
    "              loss = 'categorical_crossentropy',\n",
    "              metrics = ['accuracy'])\n",
    "\n",
    "history = cnn.fit(X_train, Y_train, epochs=100, validation_data=(X_test, Y_test))"
   ]
  },
  {
   "cell_type": "code",
   "execution_count": 128,
   "metadata": {},
   "outputs": [
    {
     "name": "stdout",
     "output_type": "stream",
     "text": [
      "64/64 [==============================] - 7s 108ms/step - loss: 2.8361 - accuracy: 0.4775\n"
     ]
    },
    {
     "data": {
      "text/plain": [
       "[2.8361318111419678, 0.4775308668613434]"
      ]
     },
     "execution_count": 128,
     "metadata": {},
     "output_type": "execute_result"
    }
   ],
   "source": [
    "cnn.evaluate(X_test,Y_test)"
   ]
  },
  {
   "cell_type": "code",
   "execution_count": 140,
   "metadata": {},
   "outputs": [
    {
     "name": "stdout",
     "output_type": "stream",
     "text": [
      "64/64 [==============================] - 7s 112ms/step\n"
     ]
    },
    {
     "data": {
      "image/png": "[encoded data removed]",
      "text/plain": [
       "<Figure size 640x480 with 2 Axes>"
      ]
     },
     "metadata": {},
     "output_type": "display_data"
    }
   ],
   "source": [
    "y_pred = cnn.predict(X_test)\n",
    "y_pred_classes = y_pred.argmax(axis=1)\n",
    "y_test_classes = Y_test.argmax(axis=1)\n",
    "\n",
    "conf_matrix = confusion_matrix(y_test_classes, y_pred_classes)\n",
    "sns.heatmap(conf_matrix, annot=True, cmap='Blues', fmt='d')\n",
    "plt.xlabel('Predicted Class')\n",
    "plt.ylabel('True Class')\n",
    "plt.title('Confusion Matrix')\n",
    "plt.show()"
   ]
  },
  {
   "cell_type": "code",
   "execution_count": 130,
   "metadata": {},
   "outputs": [
    {
     "data": {
      "image/png": "[encoded data removed]",
      "text/plain": [
       "<Figure size 640x480 with 1 Axes>"
      ]
     },
     "metadata": {},
     "output_type": "display_data"
    }
   ],
   "source": [
    "plt.plot(history.history['accuracy'], label='Training Accuracy')\n",
    "plt.plot(history.history['val_accuracy'], label='Validation Accuracy')\n",
    "plt.xlabel('Epoch')\n",
    "plt.ylabel('Accuracy')\n",
    "plt.legend()\n",
    "plt.title('Training and Validation Accuracy')\n",
    "plt.show()"
   ]
  }
 ],
 "metadata": {
  "kernelspec": {
   "display_name": "base",
   "language": "python",
   "name": "python3"
  },
  "language_info": {
   "codemirror_mode": {
    "name": "ipython",
    "version": 3
   },
   "file_extension": ".py",
   "mimetype": "text/x-python",
   "name": "python",
   "nbconvert_exporter": "python",
   "pygments_lexer": "ipython3",
   "version": "3.10.9"
  },
  "orig_nbformat": 4
 },
 "nbformat": 4,
 "nbformat_minor": 2
}
